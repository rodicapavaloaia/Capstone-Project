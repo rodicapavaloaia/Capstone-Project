{
 "cells": [
  {
   "cell_type": "markdown",
   "metadata": {},
   "source": [
    "Introduction\n",
    "\n",
    "New York City's demographics show that it is a large and ethnically diverse metropolis. It is the largest city in the United States with a long history of international immigration. Over the last decade the city has been growing faster than the region. The New York region continues to be by far the leading metropolitan gateway for legal immigrants admitted into the United States.\n",
    "\n",
    "With it's diverse culture, comes diverse food items. There are many resturants in New york City, each beloning to different categories like Chinese , Indian , French etc.\n",
    "\n",
    "So as part of this project , we will list and visualize all major parts of New York City that has great French Cuisine.\n",
    "\n",
    "Data\n",
    "\n",
    "For this project we need the following data :\n",
    "\n",
    "New York City data that contains list Boroughs, Neighborhoods along with their latitude and longitude.\n",
    "Data source : https://cocl.us/new_york_dataset\n",
    "Description : This data set contains the required information. And we will use this data set to explore various neighborhoods of new york city.\n",
    "\n",
    "French resturants in each neighborhood of new york city.\n",
    "Data source : Fousquare API\n",
    "Description : By using this api we will get all the venues in each neighborhood. We can filter these venues to get only French resturants.\n",
    "GeoSpace data\n",
    "Data source : https://data.cityofnewyork.us/City-Government/Borough-Boundaries/tqmj-j8zm\n",
    "Description : By using this geo space data we will get the New york Borough boundaries that will help us visualize choropleth map.\n",
    "\n",
    "Approach\n",
    "Collect the new york city data from https://cocl.us/new_york_dataset\n",
    "Using FourSquare API we will find all venues for each neighborhood.\n",
    "Filter out all venues that are French Resturants.\n",
    "Find rating , tips and like count for each French Resturants using FourSquare API.\n",
    "Using rating for each resturant , we will sort that data.\n",
    "Visualize the Ranking of neighborhoods using folium library(python)\n",
    "Questions that can be asked using the above mentioned datasets\n",
    "What is best location in New York City for French Cuisine ?\n",
    "Which areas have potential French Resturant Market ?\n",
    "Which all areas lack French Resturants ?\n",
    "Which is the best place to stay if I prefer French Cuisine ?\n",
    "Analysis\n",
    "We will import the required libraries for python.\n",
    "\n",
    "pandas and numpy for handling data.\n",
    "request module for using FourSquare API.\n",
    "geopy to get co-ordinates of City of New York.\n",
    "folium to visualize the results on a map"
   ]
  }
 ],
 "metadata": {
  "kernelspec": {
   "display_name": "Python 3",
   "language": "python",
   "name": "python3"
  },
  "language_info": {
   "codemirror_mode": {
    "name": "ipython",
    "version": 3
   },
   "file_extension": ".py",
   "mimetype": "text/x-python",
   "name": "python",
   "nbconvert_exporter": "python",
   "pygments_lexer": "ipython3",
   "version": "3.7.3"
  }
 },
 "nbformat": 4,
 "nbformat_minor": 2
}
