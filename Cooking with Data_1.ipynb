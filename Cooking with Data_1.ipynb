{
 "cells": [
  {
   "cell_type": "markdown",
   "metadata": {},
   "source": [
    "Introduction\n",
    "\n",
    "New York City's demographics show that it is a large and ethnically diverse metropolis. It is the largest city in the United States with a long history of international immigration. Over the last decade the city has been growing faster than the region. The New York region continues to be by far the leading metropolitan gateway for legal immigrants admitted into the United States.\n",
    "\n",
    "With it's diverse culture, comes diverse food items. There are many resturants in New york City, each beloning to different categories like Chinese , Indian , French etc.\n",
    "\n",
    "So as part of this project , we will list and visualize all major parts of New York City that has great French Cuisine.\n",
    "\n",
    "Data\n",
    "\n",
    "For this project we need the following data :\n",
    "\n",
    "New York City data that contains list Boroughs, Neighborhoods along with their latitude and longitude.\n",
    "Data source : https://cocl.us/new_york_dataset\n",
    "Description : This data set contains the required information. And we will use this data set to explore various neighborhoods of new york city.\n",
    "\n",
    "French resturants in each neighborhood of new york city.\n",
    "Data source : Fousquare API\n",
    "Description : By using this api we will get all the venues in each neighborhood. We can filter these venues to get only French resturants.\n",
    "GeoSpace data\n",
    "Data source : https://data.cityofnewyork.us/City-Government/Borough-Boundaries/tqmj-j8zm\n",
    "Description : By using this geo space data we will get the New york Borough boundaries that will help us visualize choropleth map.\n",
    "\n",
    "Approach\n",
    "Collect the new york city data from https://cocl.us/new_york_dataset\n",
    "Using FourSquare API we will find all venues for each neighborhood.\n",
    "Filter out all venues that are French Resturants.\n",
    "Find rating , tips and like count for each French Resturants using FourSquare API.\n",
    "Using rating for each resturant , we will sort that data.\n",
    "Visualize the Ranking of neighborhoods using folium library(python)\n",
    "Questions that can be asked using the above mentioned datasets\n",
    "What is best location in New York City for French Cuisine ?\n",
    "Which areas have potential French Resturant Market ?\n",
    "Which all areas lack French Resturants ?\n",
    "Which is the best place to stay if I prefer French Cuisine ?\n",
    "Analysis\n",
    "We will import the required libraries for python.\n",
    "\n",
    "pandas and numpy for handling data.\n",
    "request module for using FourSquare API.\n",
    "geopy to get co-ordinates of City of New York.\n",
    "folium to visualize the results on a map"
   ]
  },
  {
   "cell_type": "code",
   "execution_count": 1,
   "metadata": {},
   "outputs": [
    {
     "name": "stdout",
     "output_type": "stream",
     "text": [
      "Libraries imported.\n"
     ]
    }
   ],
   "source": [
    "import pandas as pd\n",
    "import numpy as np\n",
    "pd.set_option('display.max_columns', None)\n",
    "pd.set_option('display.max_rows', None)\n",
    "import requests\n",
    "from bs4 import BeautifulSoup\n",
    "#import geocoder\n",
    "import os\n",
    "import folium # map rendering library\n",
    "from geopy.geocoders import Nominatim # convert an address into latitude and longitude values\n",
    "# Matplotlib and associated plotting modules\n",
    "import matplotlib.pyplot as plt\n",
    "import matplotlib.cm as cm\n",
    "import matplotlib.colors as colors\n",
    "%matplotlib inline\n",
    "\n",
    "import folium # map rendering library\n",
    "print('Libraries imported.')"
   ]
  },
  {
   "cell_type": "markdown",
   "metadata": {},
   "source": [
    "Now we define a function to get the geocodes i.e latitude and longitude of a given location using geopy."
   ]
  },
  {
   "cell_type": "code",
   "execution_count": 6,
   "metadata": {},
   "outputs": [],
   "source": [
    "def geo_location(address):\n",
    "    # get geo location of address\n",
    "    geolocator = Nominatim(user_agent=\"ny_explorer\")\n",
    "    location = geolocator.geocode(address)\n",
    "    latitude = location.latitude\n",
    "    longitude = location.longitude\n",
    "    return latitude,longitude"
   ]
  },
  {
   "cell_type": "markdown",
   "metadata": {},
   "source": [
    "We define a function to intract with FourSquare API and get top 100 venues within a radius of 1000 metres for a given latitude and longitude. Below function will return us the venue id , venue name and category."
   ]
  },
  {
   "cell_type": "code",
   "execution_count": 9,
   "metadata": {},
   "outputs": [
    {
     "name": "stdout",
     "output_type": "stream",
     "text": [
      "40.7127281 -74.0060152\n"
     ]
    },
    {
     "data": {
      "text/plain": [
       "{'meta': {'code': 400,\n",
       "  'errorType': 'invalid_auth',\n",
       "  'errorDetail': 'Missing access credentials. See https://developer.foursquare.com/docs/api/configuration/authentication for details.',\n",
       "  'requestId': '5d4eb5b45bc9e3002426726e'},\n",
       " 'response': {}}"
      ]
     },
     "execution_count": 9,
     "metadata": {},
     "output_type": "execute_result"
    }
   ],
   "source": [
    "address = 'New York'\n",
    "\n",
    "geolocator = Nominatim(user_agent=\"foursquare_agent\")\n",
    "location = geolocator.geocode(address)\n",
    "latitude = location.latitude\n",
    "longitude = location.longitude\n",
    "print(latitude, longitude)\n",
    "\n",
    "radius=1000\n",
    "LIMIT=100\n",
    "CLIENT_ID = 'UOF5JBN3J2LERBUBTHMNIEGNLPG0OMT4HWLIMPGKGSCWQCCW'\n",
    "CLIENT_SECRET = '3WPNTATDZHW13NK1WEHSN1MG10QDB1ABR3VEWELRVJJPHCO5'\n",
    "VERSION = '20180604' # Foursquare API version\n",
    "    \n",
    "    \n",
    "    #url to fetch data from foursquare api\n",
    "url = 'https://api.foursquare.com/v2/venues/{}?client_id={}&client_secret={}&v={}'.format(CLIENT_ID, CLIENT_SECRET, VERSION, latitude, longitude)\n",
    "    \n",
    "    # get all the data\n",
    "results = requests.get(url).json()\n",
    "results\n",
    "\n",
    "    "
   ]
  },
  {
   "cell_type": "code",
   "execution_count": 27,
   "metadata": {},
   "outputs": [],
   "source": [
    "def get_venues(lat,lng):\n",
    "    \n",
    "    #set variables\n",
    "    radius=1000\n",
    "    LIMIT=100\n",
    "    CLIENT_ID = 'UOF5JBN3J2LERBUBTHMNIEGNLPG0OMT4HWLIMPGKGSCWQCCW'\n",
    "    CLIENT_SECRET = '3WPNTATDZHW13NK1WEHSN1MG10QDB1ABR3VEWELRVJJPHCO5' # your Foursquare Secret\n",
    "    VERSION = '20180604' # Foursquare API version\n",
    "    \n",
    "    #url to fetch data from foursquare api\n",
    "    url = 'https://api.foursquare.com/v2/venues/explore?&client_id={}&client_secret={}&v={}&ll={},{}&radius={}&limit={}'.format(\n",
    "            CLIENT_ID, \n",
    "            CLIENT_SECRET, \n",
    "            VERSION, \n",
    "            lat, \n",
    "            lng, \n",
    "            radius, \n",
    "            LIMIT)\n",
    "    \n",
    "       # get all the data\n",
    "    results = requests.get(url).json()\n",
    "    venue_data=results[\"response\"]['groups'][0]['items']\n",
    "    venue_details=[]\n",
    "    for row in venue_data:\n",
    "        try:\n",
    "            venue_id=row['venue']['id']\n",
    "            venue_name=row['venue']['name']\n",
    "            venue_category=row['venue']['categories'][0]['name']\n",
    "            venue_details.append([venue_id,venue_name,venue_category])\n",
    "        except KeyError:\n",
    "            pass\n",
    "        \n",
    "    column_names=['ID','Name','Category']\n",
    "    df = pd.DataFrame(venue_details,columns=column_names)\n",
    "    return df"
   ]
  },
  {
   "cell_type": "markdown",
   "metadata": {},
   "source": [
    "Now we will define a function to get venue details like like count , rating , tip counts for a given venue id. This will be used for ranking."
   ]
  },
  {
   "cell_type": "code",
   "execution_count": 28,
   "metadata": {},
   "outputs": [],
   "source": [
    "def get_venue_details(venue_id):\n",
    "        \n",
    "    CLIENT_ID = 'UOF5JBN3J2LERBUBTHMNIEGNLPG0OMT4HWLIMPGKGSCWQCCW' # your Foursquare ID\n",
    "    CLIENT_SECRET = '3WPNTATDZHW13NK1WEHSN1MG10QDB1ABR3VEWELRVJJPHCO5' # your Foursquare Secret\n",
    "    VERSION = '20180604' # Foursquare API version\n",
    "    \n",
    "    #url to fetch data from foursquare api\n",
    "    url = 'https://api.foursquare.com/v2/venues/{}?&client_id={}&client_secret={}&v={}'.format(\n",
    "            venue_id,\n",
    "            CLIENT_ID, \n",
    "            CLIENT_SECRET, \n",
    "            VERSION)\n",
    "    \n",
    "    # get all the data\n",
    "    results = requests.get(url).json()\n",
    "    venue_data=results['response']['venue']\n",
    "    venue_details=[]\n",
    "    try:\n",
    "        venue_id=venue_data['id']\n",
    "        venue_name=venue_data['name']\n",
    "        venue_likes=venue_data['likes']['count']\n",
    "        venue_rating=venue_data['rating']\n",
    "        venue_tips=venue_data['tips']['count']\n",
    "        venue_details.append([venue_id,venue_name,venue_likes,venue_rating,venue_tips])\n",
    "    except KeyError:\n",
    "        pass\n",
    "        \n",
    "    column_names=['ID','Name','Likes','Rating','Tips']\n",
    "    df = pd.DataFrame(venue_details,columns=column_names)\n",
    "    return df"
   ]
  },
  {
   "cell_type": "markdown",
   "metadata": {},
   "source": [
    "Now we define a funtion to get the new york city data such as Boroughs, Neighborhoods along with their latitude and longitude."
   ]
  },
  {
   "cell_type": "code",
   "execution_count": 29,
   "metadata": {},
   "outputs": [],
   "source": [
    "def get_new_york_data():\n",
    "    url='https://cocl.us/new_york_dataset'\n",
    "    resp=requests.get(url).json()\n",
    "    # all data is present in features label\n",
    "    features=resp['features']\n",
    "    \n",
    "    # define the dataframe columns\n",
    "    column_names = ['Borough', 'Neighborhood', 'Latitude', 'Longitude'] \n",
    "    # instantiate the dataframe\n",
    "    new_york_data = pd.DataFrame(columns=column_names)\n",
    "    \n",
    "    for data in features:\n",
    "        borough = data['properties']['borough'] \n",
    "        neighborhood_name = data['properties']['name']\n",
    "        \n",
    "        neighborhood_latlon = data['geometry']['coordinates']\n",
    "        neighborhood_lat = neighborhood_latlon[1]\n",
    "        neighborhood_lon = neighborhood_latlon[0]\n",
    "    \n",
    "        new_york_data = new_york_data.append({'Borough': borough,\n",
    "                                          'Neighborhood': neighborhood_name,\n",
    "                                          'Latitude': neighborhood_lat,\n",
    "                                          'Longitude': neighborhood_lon}, ignore_index=True)\n",
    "    \n",
    "    return new_york_data"
   ]
  },
  {
   "cell_type": "markdown",
   "metadata": {},
   "source": [
    "We will call the above funtion to get the new york city data."
   ]
  },
  {
   "cell_type": "code",
   "execution_count": 30,
   "metadata": {},
   "outputs": [],
   "source": [
    "# get new york data\n",
    "new_york_data=get_new_york_data()"
   ]
  },
  {
   "cell_type": "code",
   "execution_count": 31,
   "metadata": {},
   "outputs": [
    {
     "data": {
      "text/html": [
       "<div>\n",
       "<style scoped>\n",
       "    .dataframe tbody tr th:only-of-type {\n",
       "        vertical-align: middle;\n",
       "    }\n",
       "\n",
       "    .dataframe tbody tr th {\n",
       "        vertical-align: top;\n",
       "    }\n",
       "\n",
       "    .dataframe thead th {\n",
       "        text-align: right;\n",
       "    }\n",
       "</style>\n",
       "<table border=\"1\" class=\"dataframe\">\n",
       "  <thead>\n",
       "    <tr style=\"text-align: right;\">\n",
       "      <th></th>\n",
       "      <th>Borough</th>\n",
       "      <th>Neighborhood</th>\n",
       "      <th>Latitude</th>\n",
       "      <th>Longitude</th>\n",
       "    </tr>\n",
       "  </thead>\n",
       "  <tbody>\n",
       "    <tr>\n",
       "      <th>0</th>\n",
       "      <td>Bronx</td>\n",
       "      <td>Wakefield</td>\n",
       "      <td>40.894705</td>\n",
       "      <td>-73.847201</td>\n",
       "    </tr>\n",
       "    <tr>\n",
       "      <th>1</th>\n",
       "      <td>Bronx</td>\n",
       "      <td>Co-op City</td>\n",
       "      <td>40.874294</td>\n",
       "      <td>-73.829939</td>\n",
       "    </tr>\n",
       "    <tr>\n",
       "      <th>2</th>\n",
       "      <td>Bronx</td>\n",
       "      <td>Eastchester</td>\n",
       "      <td>40.887556</td>\n",
       "      <td>-73.827806</td>\n",
       "    </tr>\n",
       "    <tr>\n",
       "      <th>3</th>\n",
       "      <td>Bronx</td>\n",
       "      <td>Fieldston</td>\n",
       "      <td>40.895437</td>\n",
       "      <td>-73.905643</td>\n",
       "    </tr>\n",
       "    <tr>\n",
       "      <th>4</th>\n",
       "      <td>Bronx</td>\n",
       "      <td>Riverdale</td>\n",
       "      <td>40.890834</td>\n",
       "      <td>-73.912585</td>\n",
       "    </tr>\n",
       "  </tbody>\n",
       "</table>\n",
       "</div>"
      ],
      "text/plain": [
       "  Borough Neighborhood   Latitude  Longitude\n",
       "0   Bronx    Wakefield  40.894705 -73.847201\n",
       "1   Bronx   Co-op City  40.874294 -73.829939\n",
       "2   Bronx  Eastchester  40.887556 -73.827806\n",
       "3   Bronx    Fieldston  40.895437 -73.905643\n",
       "4   Bronx    Riverdale  40.890834 -73.912585"
      ]
     },
     "execution_count": 31,
     "metadata": {},
     "output_type": "execute_result"
    }
   ],
   "source": [
    "new_york_data.head()"
   ]
  },
  {
   "cell_type": "code",
   "execution_count": 32,
   "metadata": {},
   "outputs": [
    {
     "data": {
      "text/plain": [
       "(306, 4)"
      ]
     },
     "execution_count": 32,
     "metadata": {},
     "output_type": "execute_result"
    }
   ],
   "source": [
    "new_york_data.shape"
   ]
  },
  {
   "cell_type": "markdown",
   "metadata": {},
   "source": [
    "So there are total of 306 different Neighborhoods in New York"
   ]
  },
  {
   "cell_type": "code",
   "execution_count": 33,
   "metadata": {},
   "outputs": [
    {
     "data": {
      "image/png": "[encoded data removed]",
      "text/plain": [
       "<Figure size 900x500 with 1 Axes>"
      ]
     },
     "metadata": {
      "needs_background": "light"
     },
     "output_type": "display_data"
    }
   ],
   "source": [
    "\n",
    "plt.figure(figsize=(9,5), dpi = 100)\n",
    "# title\n",
    "plt.title('Number of Neighborhood for each Borough in New York City')\n",
    "#On x-axis\n",
    "plt.xlabel('Borough', fontsize = 15)\n",
    "#On y-axis\n",
    "plt.ylabel('No.of Neighborhood', fontsize=15)\n",
    "#giving a bar plot\n",
    "new_york_data.groupby('Borough')['Neighborhood'].count().plot(kind='bar')\n",
    "#legend\n",
    "plt.legend()\n",
    "#displays the plot\n",
    "plt.show()"
   ]
  },
  {
   "cell_type": "markdown",
   "metadata": {},
   "source": [
    "We see that Queens has highest number of neighborhoods\n",
    "\n",
    "Now we will collect French resturants for each Neighborhood"
   ]
  },
  {
   "cell_type": "code",
   "execution_count": 34,
   "metadata": {},
   "outputs": [
    {
     "name": "stdout",
     "output_type": "stream",
     "text": [
      "( 1 / 306 ) French Restaurants in Wakefield, Bronx:0\n",
      "( 2 / 306 ) French Restaurants in Co-op City, Bronx:0\n",
      "( 3 / 306 ) French Restaurants in Eastchester, Bronx:0\n",
      "( 4 / 306 ) French Restaurants in Fieldston, Bronx:0\n",
      "( 5 / 306 ) French Restaurants in Riverdale, Bronx:0\n",
      "( 6 / 306 ) French Restaurants in Kingsbridge, Bronx:0\n",
      "( 7 / 306 ) French Restaurants in Marble Hill, Manhattan:0\n",
      "( 8 / 306 ) French Restaurants in Woodlawn, Bronx:0\n",
      "( 9 / 306 ) French Restaurants in Norwood, Bronx:0\n",
      "( 10 / 306 ) French Restaurants in Williamsbridge, Bronx:0\n",
      "( 11 / 306 ) French Restaurants in Baychester, Bronx:0\n",
      "( 12 / 306 ) French Restaurants in Pelham Parkway, Bronx:0\n",
      "( 13 / 306 ) French Restaurants in City Island, Bronx:1\n",
      "( 14 / 306 ) French Restaurants in Bedford Park, Bronx:0\n",
      "( 15 / 306 ) French Restaurants in University Heights, Bronx:0\n",
      "( 16 / 306 ) French Restaurants in Morris Heights, Bronx:0\n",
      "( 17 / 306 ) French Restaurants in Fordham, Bronx:0\n",
      "( 18 / 306 ) French Restaurants in East Tremont, Bronx:0\n",
      "( 19 / 306 ) French Restaurants in West Farms, Bronx:0\n",
      "( 20 / 306 ) French Restaurants in High  Bridge, Bronx:0\n",
      "( 21 / 306 ) French Restaurants in Melrose, Bronx:0\n",
      "( 22 / 306 ) French Restaurants in Mott Haven, Bronx:0\n",
      "( 23 / 306 ) French Restaurants in Port Morris, Bronx:0\n",
      "( 24 / 306 ) French Restaurants in Longwood, Bronx:0\n",
      "( 25 / 306 ) French Restaurants in Hunts Point, Bronx:0\n",
      "( 26 / 306 ) French Restaurants in Morrisania, Bronx:0\n",
      "( 27 / 306 ) French Restaurants in Soundview, Bronx:0\n",
      "( 28 / 306 ) French Restaurants in Clason Point, Bronx:0\n",
      "( 29 / 306 ) French Restaurants in Throgs Neck, Bronx:0\n",
      "( 30 / 306 ) French Restaurants in Country Club, Bronx:0\n",
      "( 31 / 306 ) French Restaurants in Parkchester, Bronx:0\n",
      "( 32 / 306 ) French Restaurants in Westchester Square, Bronx:0\n",
      "( 33 / 306 ) French Restaurants in Van Nest, Bronx:0\n",
      "( 34 / 306 ) French Restaurants in Morris Park, Bronx:0\n",
      "( 35 / 306 ) French Restaurants in Belmont, Bronx:0\n",
      "( 36 / 306 ) French Restaurants in Spuyten Duyvil, Bronx:0\n",
      "( 37 / 306 ) French Restaurants in North Riverdale, Bronx:0\n",
      "( 38 / 306 ) French Restaurants in Pelham Bay, Bronx:0\n",
      "( 39 / 306 ) French Restaurants in Schuylerville, Bronx:0\n",
      "( 40 / 306 ) French Restaurants in Edgewater Park, Bronx:0\n",
      "( 41 / 306 ) French Restaurants in Castle Hill, Bronx:0\n",
      "( 42 / 306 ) French Restaurants in Olinville, Bronx:0\n",
      "( 43 / 306 ) French Restaurants in Pelham Gardens, Bronx:0\n",
      "( 44 / 306 ) French Restaurants in Concourse, Bronx:0\n",
      "( 45 / 306 ) French Restaurants in Unionport, Bronx:0\n",
      "( 46 / 306 ) French Restaurants in Edenwald, Bronx:0\n",
      "( 47 / 306 ) French Restaurants in Bay Ridge, Brooklyn:0\n",
      "( 48 / 306 ) French Restaurants in Bensonhurst, Brooklyn:0\n",
      "( 49 / 306 ) French Restaurants in Sunset Park, Brooklyn:0\n",
      "( 50 / 306 ) French Restaurants in Greenpoint, Brooklyn:3\n",
      "( 51 / 306 ) French Restaurants in Gravesend, Brooklyn:0\n",
      "( 52 / 306 ) French Restaurants in Brighton Beach, Brooklyn:0\n",
      "( 53 / 306 ) French Restaurants in Sheepshead Bay, Brooklyn:0\n",
      "( 54 / 306 ) French Restaurants in Manhattan Terrace, Brooklyn:0\n",
      "( 55 / 306 ) French Restaurants in Flatbush, Brooklyn:0\n",
      "( 56 / 306 ) French Restaurants in Crown Heights, Brooklyn:0\n",
      "( 57 / 306 ) French Restaurants in East Flatbush, Brooklyn:0\n",
      "( 58 / 306 ) French Restaurants in Kensington, Brooklyn:0\n",
      "( 59 / 306 ) French Restaurants in Windsor Terrace, Brooklyn:1\n",
      "( 60 / 306 ) French Restaurants in Prospect Heights, Brooklyn:0\n",
      "( 61 / 306 ) French Restaurants in Brownsville, Brooklyn:0\n",
      "( 62 / 306 ) French Restaurants in Williamsburg, Brooklyn:2\n",
      "( 63 / 306 ) French Restaurants in Bushwick, Brooklyn:2\n",
      "( 64 / 306 ) French Restaurants in Bedford Stuyvesant, Brooklyn:1\n",
      "( 65 / 306 ) French Restaurants in Brooklyn Heights, Brooklyn:1\n",
      "( 66 / 306 ) French Restaurants in Cobble Hill, Brooklyn:1\n",
      "( 67 / 306 ) French Restaurants in Carroll Gardens, Brooklyn:1\n",
      "( 68 / 306 ) French Restaurants in Red Hook, Brooklyn:0\n",
      "( 69 / 306 ) French Restaurants in Gowanus, Brooklyn:0\n",
      "( 70 / 306 ) French Restaurants in Fort Greene, Brooklyn:2\n",
      "( 71 / 306 ) French Restaurants in Park Slope, Brooklyn:0\n",
      "( 72 / 306 ) French Restaurants in Cypress Hills, Brooklyn:0\n",
      "( 73 / 306 ) French Restaurants in East New York, Brooklyn:0\n",
      "( 74 / 306 ) French Restaurants in Starrett City, Brooklyn:0\n",
      "( 75 / 306 ) French Restaurants in Canarsie, Brooklyn:0\n",
      "( 76 / 306 ) French Restaurants in Flatlands, Brooklyn:0\n",
      "( 77 / 306 ) French Restaurants in Mill Island, Brooklyn:0\n",
      "( 78 / 306 ) French Restaurants in Manhattan Beach, Brooklyn:0\n",
      "( 79 / 306 ) French Restaurants in Coney Island, Brooklyn:0\n",
      "( 80 / 306 ) French Restaurants in Bath Beach, Brooklyn:0\n",
      "( 81 / 306 ) French Restaurants in Borough Park, Brooklyn:0\n",
      "( 82 / 306 ) French Restaurants in Dyker Heights, Brooklyn:0\n",
      "( 83 / 306 ) French Restaurants in Gerritsen Beach, Brooklyn:0\n",
      "( 84 / 306 ) French Restaurants in Marine Park, Brooklyn:0\n",
      "( 85 / 306 ) French Restaurants in Clinton Hill, Brooklyn:2\n",
      "( 86 / 306 ) French Restaurants in Sea Gate, Brooklyn:0\n",
      "( 87 / 306 ) French Restaurants in Downtown, Brooklyn:1\n",
      "( 88 / 306 ) French Restaurants in Boerum Hill, Brooklyn:2\n",
      "( 89 / 306 ) French Restaurants in Prospect Lefferts Gardens, Brooklyn:0\n",
      "( 90 / 306 ) French Restaurants in Ocean Hill, Brooklyn:0\n",
      "( 91 / 306 ) French Restaurants in City Line, Brooklyn:0\n",
      "( 92 / 306 ) French Restaurants in Bergen Beach, Brooklyn:0\n",
      "( 93 / 306 ) French Restaurants in Midwood, Brooklyn:0\n",
      "( 94 / 306 ) French Restaurants in Prospect Park South, Brooklyn:0\n",
      "( 95 / 306 ) French Restaurants in Georgetown, Brooklyn:0\n",
      "( 96 / 306 ) French Restaurants in East Williamsburg, Brooklyn:0\n",
      "( 97 / 306 ) French Restaurants in North Side, Brooklyn:3\n",
      "( 98 / 306 ) French Restaurants in South Side, Brooklyn:3\n",
      "( 99 / 306 ) French Restaurants in Ocean Parkway, Brooklyn:0\n",
      "( 100 / 306 ) French Restaurants in Fort Hamilton, Brooklyn:0\n",
      "( 101 / 306 ) French Restaurants in Chinatown, Manhattan:1\n",
      "( 102 / 306 ) French Restaurants in Washington Heights, Manhattan:0\n",
      "( 103 / 306 ) French Restaurants in Inwood, Manhattan:0\n",
      "( 104 / 306 ) French Restaurants in Hamilton Heights, Manhattan:0\n",
      "( 105 / 306 ) French Restaurants in Manhattanville, Manhattan:1\n",
      "( 106 / 306 ) French Restaurants in Central Harlem, Manhattan:4\n",
      "( 107 / 306 ) French Restaurants in East Harlem, Manhattan:1\n",
      "( 108 / 306 ) French Restaurants in Upper East Side, Manhattan:3\n",
      "( 109 / 306 ) French Restaurants in Yorkville, Manhattan:1\n",
      "( 110 / 306 ) French Restaurants in Lenox Hill, Manhattan:4\n",
      "( 111 / 306 ) French Restaurants in Roosevelt Island, Manhattan:1\n",
      "( 112 / 306 ) French Restaurants in Upper West Side, Manhattan:0\n",
      "( 113 / 306 ) French Restaurants in Lincoln Square, Manhattan:4\n",
      "( 114 / 306 ) French Restaurants in Clinton, Manhattan:0\n",
      "( 115 / 306 ) French Restaurants in Midtown, Manhattan:0\n",
      "( 116 / 306 ) French Restaurants in Murray Hill, Manhattan:0\n",
      "( 117 / 306 ) French Restaurants in Chelsea, Manhattan:2\n",
      "( 118 / 306 ) French Restaurants in Greenwich Village, Manhattan:2\n",
      "( 119 / 306 ) French Restaurants in East Village, Manhattan:0\n",
      "( 120 / 306 ) French Restaurants in Lower East Side, Manhattan:2\n",
      "( 121 / 306 ) French Restaurants in Tribeca, Manhattan:3\n",
      "( 122 / 306 ) French Restaurants in Little Italy, Manhattan:2\n",
      "( 123 / 306 ) French Restaurants in Soho, Manhattan:4\n",
      "( 124 / 306 ) French Restaurants in West Village, Manhattan:1\n",
      "( 125 / 306 ) French Restaurants in Manhattan Valley, Manhattan:1\n",
      "( 126 / 306 ) French Restaurants in Morningside Heights, Manhattan:0\n",
      "( 127 / 306 ) French Restaurants in Gramercy, Manhattan:1\n",
      "( 128 / 306 ) French Restaurants in Battery Park City, Manhattan:1\n",
      "( 129 / 306 ) French Restaurants in Financial District, Manhattan:1\n",
      "( 130 / 306 ) French Restaurants in Astoria, Queens:0\n",
      "( 131 / 306 ) French Restaurants in Woodside, Queens:0\n",
      "( 132 / 306 ) French Restaurants in Jackson Heights, Queens:0\n",
      "( 133 / 306 ) French Restaurants in Elmhurst, Queens:0\n",
      "( 134 / 306 ) French Restaurants in Howard Beach, Queens:0\n",
      "( 135 / 306 ) French Restaurants in Corona, Queens:0\n",
      "( 136 / 306 ) French Restaurants in Forest Hills, Queens:0\n",
      "( 137 / 306 ) French Restaurants in Kew Gardens, Queens:0\n",
      "( 138 / 306 ) French Restaurants in Richmond Hill, Queens:0\n",
      "( 139 / 306 ) French Restaurants in Flushing, Queens:0\n",
      "( 140 / 306 ) French Restaurants in Long Island City, Queens:0\n",
      "( 141 / 306 ) French Restaurants in Sunnyside, Queens:1\n",
      "( 142 / 306 ) French Restaurants in East Elmhurst, Queens:0\n",
      "( 143 / 306 ) French Restaurants in Maspeth, Queens:0\n",
      "( 144 / 306 ) French Restaurants in Ridgewood, Queens:0\n",
      "( 145 / 306 ) French Restaurants in Glendale, Queens:0\n",
      "( 146 / 306 ) French Restaurants in Rego Park, Queens:0\n",
      "( 147 / 306 ) French Restaurants in Woodhaven, Queens:0\n",
      "( 148 / 306 ) French Restaurants in Ozone Park, Queens:0\n",
      "( 149 / 306 ) French Restaurants in South Ozone Park, Queens:0\n",
      "( 150 / 306 ) French Restaurants in College Point, Queens:0\n",
      "( 151 / 306 ) French Restaurants in Whitestone, Queens:0\n",
      "( 152 / 306 ) French Restaurants in Bayside, Queens:0\n",
      "( 153 / 306 ) French Restaurants in Auburndale, Queens:0\n",
      "( 154 / 306 ) French Restaurants in Little Neck, Queens:1\n",
      "( 155 / 306 ) French Restaurants in Douglaston, Queens:1\n",
      "( 156 / 306 ) French Restaurants in Glen Oaks, Queens:0\n",
      "( 157 / 306 ) French Restaurants in Bellerose, Queens:0\n",
      "( 158 / 306 ) French Restaurants in Kew Gardens Hills, Queens:0\n",
      "( 159 / 306 ) French Restaurants in Fresh Meadows, Queens:0\n",
      "( 160 / 306 ) French Restaurants in Briarwood, Queens:0\n",
      "( 161 / 306 ) French Restaurants in Jamaica Center, Queens:0\n",
      "( 162 / 306 ) French Restaurants in Oakland Gardens, Queens:0\n",
      "( 163 / 306 ) French Restaurants in Queens Village, Queens:0\n",
      "( 164 / 306 ) French Restaurants in Hollis, Queens:0\n",
      "( 165 / 306 ) French Restaurants in South Jamaica, Queens:0\n",
      "( 166 / 306 ) French Restaurants in St. Albans, Queens:0\n",
      "( 167 / 306 ) French Restaurants in Rochdale, Queens:0\n",
      "( 168 / 306 ) French Restaurants in Springfield Gardens, Queens:0\n",
      "( 169 / 306 ) French Restaurants in Cambria Heights, Queens:0\n",
      "( 170 / 306 ) French Restaurants in Rosedale, Queens:0\n",
      "( 171 / 306 ) French Restaurants in Far Rockaway, Queens:0\n",
      "( 172 / 306 ) French Restaurants in Broad Channel, Queens:0\n",
      "( 173 / 306 ) French Restaurants in Breezy Point, Queens:0\n",
      "( 174 / 306 ) French Restaurants in Steinway, Queens:0\n",
      "( 175 / 306 ) French Restaurants in Beechhurst, Queens:0\n",
      "( 176 / 306 ) French Restaurants in Bay Terrace, Queens:0\n",
      "( 177 / 306 ) French Restaurants in Edgemere, Queens:0\n",
      "( 178 / 306 ) French Restaurants in Arverne, Queens:0\n",
      "( 179 / 306 ) French Restaurants in Rockaway Beach, Queens:0\n",
      "( 180 / 306 ) French Restaurants in Neponsit, Queens:0\n",
      "( 181 / 306 ) French Restaurants in Murray Hill, Queens:0\n",
      "( 182 / 306 ) French Restaurants in Floral Park, Queens:0\n",
      "( 183 / 306 ) French Restaurants in Holliswood, Queens:0\n",
      "( 184 / 306 ) French Restaurants in Jamaica Estates, Queens:0\n",
      "( 185 / 306 ) French Restaurants in Queensboro Hill, Queens:0\n",
      "( 186 / 306 ) French Restaurants in Hillcrest, Queens:0\n",
      "( 187 / 306 ) French Restaurants in Ravenswood, Queens:1\n",
      "( 188 / 306 ) French Restaurants in Lindenwood, Queens:0\n",
      "( 189 / 306 ) French Restaurants in Laurelton, Queens:0\n",
      "( 190 / 306 ) French Restaurants in Lefrak City, Queens:0\n",
      "( 191 / 306 ) French Restaurants in Belle Harbor, Queens:0\n",
      "( 192 / 306 ) French Restaurants in Rockaway Park, Queens:1\n",
      "( 193 / 306 ) French Restaurants in Somerville, Queens:0\n",
      "( 194 / 306 ) French Restaurants in Brookville, Queens:0\n",
      "( 195 / 306 ) French Restaurants in Bellaire, Queens:0\n",
      "( 196 / 306 ) French Restaurants in North Corona, Queens:0\n",
      "( 197 / 306 ) French Restaurants in Forest Hills Gardens, Queens:0\n",
      "( 198 / 306 ) French Restaurants in St. George, Staten Island:0\n",
      "( 199 / 306 ) French Restaurants in New Brighton, Staten Island:0\n",
      "( 200 / 306 ) French Restaurants in Stapleton, Staten Island:0\n",
      "( 201 / 306 ) French Restaurants in Rosebank, Staten Island:0\n",
      "( 202 / 306 ) French Restaurants in West Brighton, Staten Island:0\n",
      "( 203 / 306 ) French Restaurants in Grymes Hill, Staten Island:0\n",
      "( 204 / 306 ) French Restaurants in Todt Hill, Staten Island:0\n",
      "( 205 / 306 ) French Restaurants in South Beach, Staten Island:0\n",
      "( 206 / 306 ) French Restaurants in Port Richmond, Staten Island:0\n",
      "( 207 / 306 ) French Restaurants in Mariner's Harbor, Staten Island:0\n",
      "( 208 / 306 ) French Restaurants in Port Ivory, Staten Island:0\n",
      "( 209 / 306 ) French Restaurants in Castleton Corners, Staten Island:0\n",
      "( 210 / 306 ) French Restaurants in New Springville, Staten Island:0\n",
      "( 211 / 306 ) French Restaurants in Travis, Staten Island:0\n",
      "( 212 / 306 ) French Restaurants in New Dorp, Staten Island:1\n",
      "( 213 / 306 ) French Restaurants in Oakwood, Staten Island:0\n",
      "( 214 / 306 ) French Restaurants in Great Kills, Staten Island:0\n",
      "( 215 / 306 ) French Restaurants in Eltingville, Staten Island:0\n",
      "( 216 / 306 ) French Restaurants in Annadale, Staten Island:0\n",
      "( 217 / 306 ) French Restaurants in Woodrow, Staten Island:0\n",
      "( 218 / 306 ) French Restaurants in Tottenville, Staten Island:0\n",
      "( 219 / 306 ) French Restaurants in Tompkinsville, Staten Island:0\n",
      "( 220 / 306 ) French Restaurants in Silver Lake, Staten Island:0\n",
      "( 221 / 306 ) French Restaurants in Sunnyside, Staten Island:0\n",
      "( 222 / 306 ) French Restaurants in Ditmas Park, Brooklyn:0\n",
      "( 223 / 306 ) French Restaurants in Wingate, Brooklyn:0\n",
      "( 224 / 306 ) French Restaurants in Rugby, Brooklyn:0\n",
      "( 225 / 306 ) French Restaurants in Park Hill, Staten Island:0\n",
      "( 226 / 306 ) French Restaurants in Westerleigh, Staten Island:0\n",
      "( 227 / 306 ) French Restaurants in Graniteville, Staten Island:0\n",
      "( 228 / 306 ) French Restaurants in Arlington, Staten Island:0\n",
      "( 229 / 306 ) French Restaurants in Arrochar, Staten Island:0\n",
      "( 230 / 306 ) French Restaurants in Grasmere, Staten Island:0\n",
      "( 231 / 306 ) French Restaurants in Old Town, Staten Island:0\n",
      "( 232 / 306 ) French Restaurants in Dongan Hills, Staten Island:0\n",
      "( 233 / 306 ) French Restaurants in Midland Beach, Staten Island:0\n",
      "( 234 / 306 ) French Restaurants in Grant City, Staten Island:1\n",
      "( 235 / 306 ) French Restaurants in New Dorp Beach, Staten Island:0\n",
      "( 236 / 306 ) French Restaurants in Bay Terrace, Staten Island:0\n",
      "( 237 / 306 ) French Restaurants in Huguenot, Staten Island:0\n",
      "( 238 / 306 ) French Restaurants in Pleasant Plains, Staten Island:0\n",
      "( 239 / 306 ) French Restaurants in Butler Manor, Staten Island:0\n",
      "( 240 / 306 ) French Restaurants in Charleston, Staten Island:0\n",
      "( 241 / 306 ) French Restaurants in Rossville, Staten Island:0\n",
      "( 242 / 306 ) French Restaurants in Arden Heights, Staten Island:0\n",
      "( 243 / 306 ) French Restaurants in Greenridge, Staten Island:0\n",
      "( 244 / 306 ) French Restaurants in Heartland Village, Staten Island:0\n",
      "( 245 / 306 ) French Restaurants in Chelsea, Staten Island:0\n",
      "( 246 / 306 ) French Restaurants in Bloomfield, Staten Island:0\n",
      "( 247 / 306 ) French Restaurants in Bulls Head, Staten Island:0\n",
      "( 248 / 306 ) French Restaurants in Carnegie Hill, Manhattan:2\n",
      "( 249 / 306 ) French Restaurants in Noho, Manhattan:2\n",
      "( 250 / 306 ) French Restaurants in Civic Center, Manhattan:5\n",
      "( 251 / 306 ) French Restaurants in Midtown South, Manhattan:0\n",
      "( 252 / 306 ) French Restaurants in Richmond Town, Staten Island:0\n",
      "( 253 / 306 ) French Restaurants in Shore Acres, Staten Island:0\n",
      "( 254 / 306 ) French Restaurants in Clifton, Staten Island:0\n",
      "( 255 / 306 ) French Restaurants in Concord, Staten Island:0\n",
      "( 256 / 306 ) French Restaurants in Emerson Hill, Staten Island:0\n",
      "( 257 / 306 ) French Restaurants in Randall Manor, Staten Island:0\n",
      "( 258 / 306 ) French Restaurants in Howland Hook, Staten Island:0\n",
      "( 259 / 306 ) French Restaurants in Elm Park, Staten Island:0\n",
      "( 260 / 306 ) French Restaurants in Remsen Village, Brooklyn:0\n",
      "( 261 / 306 ) French Restaurants in New Lots, Brooklyn:0\n",
      "( 262 / 306 ) French Restaurants in Paerdegat Basin, Brooklyn:0\n",
      "( 263 / 306 ) French Restaurants in Mill Basin, Brooklyn:0\n",
      "( 264 / 306 ) French Restaurants in Jamaica Hills, Queens:0\n",
      "( 265 / 306 ) French Restaurants in Utopia, Queens:0\n",
      "( 266 / 306 ) French Restaurants in Pomonok, Queens:0\n",
      "( 267 / 306 ) French Restaurants in Astoria Heights, Queens:0\n",
      "( 268 / 306 ) French Restaurants in Claremont Village, Bronx:0\n",
      "( 269 / 306 ) French Restaurants in Concourse Village, Bronx:0\n",
      "( 270 / 306 ) French Restaurants in Mount Eden, Bronx:0\n",
      "( 271 / 306 ) French Restaurants in Mount Hope, Bronx:0\n",
      "( 272 / 306 ) French Restaurants in Sutton Place, Manhattan:4\n",
      "( 273 / 306 ) French Restaurants in Hunters Point, Queens:1\n",
      "( 274 / 306 ) French Restaurants in Turtle Bay, Manhattan:3\n",
      "( 275 / 306 ) French Restaurants in Tudor City, Manhattan:1\n",
      "( 276 / 306 ) French Restaurants in Stuyvesant Town, Manhattan:0\n",
      "( 277 / 306 ) French Restaurants in Flatiron, Manhattan:0\n",
      "( 278 / 306 ) French Restaurants in Sunnyside Gardens, Queens:2\n",
      "( 279 / 306 ) French Restaurants in Blissville, Queens:0\n",
      "( 280 / 306 ) French Restaurants in Fulton Ferry, Brooklyn:0\n",
      "( 281 / 306 ) French Restaurants in Vinegar Hill, Brooklyn:0\n",
      "( 282 / 306 ) French Restaurants in Weeksville, Brooklyn:1\n",
      "( 283 / 306 ) French Restaurants in Broadway Junction, Brooklyn:0\n",
      "( 284 / 306 ) French Restaurants in Dumbo, Brooklyn:0\n",
      "( 285 / 306 ) French Restaurants in Manor Heights, Staten Island:0\n",
      "( 286 / 306 ) French Restaurants in Willowbrook, Staten Island:0\n",
      "( 287 / 306 ) French Restaurants in Sandy Ground, Staten Island:0\n",
      "( 288 / 306 ) French Restaurants in Egbertville, Staten Island:0\n",
      "( 289 / 306 ) French Restaurants in Roxbury, Queens:0\n",
      "( 290 / 306 ) French Restaurants in Homecrest, Brooklyn:0\n",
      "( 291 / 306 ) French Restaurants in Middle Village, Queens:0\n",
      "( 292 / 306 ) French Restaurants in Prince's Bay, Staten Island:0\n",
      "( 293 / 306 ) French Restaurants in Lighthouse Hill, Staten Island:0\n",
      "( 294 / 306 ) French Restaurants in Richmond Valley, Staten Island:0\n",
      "( 295 / 306 ) French Restaurants in Malba, Queens:0\n",
      "( 296 / 306 ) French Restaurants in Highland Park, Brooklyn:0\n",
      "( 297 / 306 ) French Restaurants in Madison, Brooklyn:0\n",
      "( 298 / 306 ) French Restaurants in Bronxdale, Bronx:0\n",
      "( 299 / 306 ) French Restaurants in Allerton, Bronx:0\n",
      "( 300 / 306 ) French Restaurants in Kingsbridge Heights, Bronx:0\n",
      "( 301 / 306 ) French Restaurants in Erasmus, Brooklyn:0\n",
      "( 302 / 306 ) French Restaurants in Hudson Yards, Manhattan:1\n",
      "( 303 / 306 ) French Restaurants in Hammels, Queens:0\n",
      "( 304 / 306 ) French Restaurants in Bayswater, Queens:0\n",
      "( 305 / 306 ) French Restaurants in Queensbridge, Queens:0\n",
      "( 306 / 306 ) French Restaurants in Fox Hills, Staten Island:0\n"
     ]
    }
   ],
   "source": [
    "# prepare neighborhood list that contains french restaurants\n",
    "column_names=['Borough', 'Neighborhood', 'ID','Name']\n",
    "french_rest_ny=pd.DataFrame(columns=column_names)\n",
    "count=1\n",
    "for row in new_york_data.values.tolist():\n",
    "    Borough, Neighborhood, Latitude, Longitude=row\n",
    "    venues = get_venues(Latitude,Longitude)\n",
    "    french_restaurants=venues[venues['Category']=='French Restaurant']   \n",
    "    print('(',count,'/',len(new_york_data),')','French Restaurants in '+Neighborhood+', '+Borough+':'+str(len(french_restaurants)))\n",
    "    for restaurant_detail in french_restaurants.values.tolist():\n",
    "        id, name , category=restaurant_detail\n",
    "        french_rest_ny = french_rest_ny.append({'Borough': Borough,\n",
    "                                                'Neighborhood': Neighborhood, \n",
    "                                                'ID': id,\n",
    "                                                'Name' : name\n",
    "                                               }, ignore_index=True)\n",
    "    count+=1"
   ]
  },
  {
   "cell_type": "markdown",
   "metadata": {},
   "source": [
    "Now that we have got all the French resturants in new york city , we will analyze it"
   ]
  },
  {
   "cell_type": "code",
   "execution_count": 35,
   "metadata": {},
   "outputs": [
    {
     "data": {
      "text/html": [
       "<div>\n",
       "<style scoped>\n",
       "    .dataframe tbody tr th:only-of-type {\n",
       "        vertical-align: middle;\n",
       "    }\n",
       "\n",
       "    .dataframe tbody tr th {\n",
       "        vertical-align: top;\n",
       "    }\n",
       "\n",
       "    .dataframe thead th {\n",
       "        text-align: right;\n",
       "    }\n",
       "</style>\n",
       "<table border=\"1\" class=\"dataframe\">\n",
       "  <thead>\n",
       "    <tr style=\"text-align: right;\">\n",
       "      <th></th>\n",
       "      <th>Borough</th>\n",
       "      <th>Neighborhood</th>\n",
       "      <th>ID</th>\n",
       "      <th>Name</th>\n",
       "    </tr>\n",
       "  </thead>\n",
       "  <tbody>\n",
       "    <tr>\n",
       "      <th>0</th>\n",
       "      <td>Bronx</td>\n",
       "      <td>City Island</td>\n",
       "      <td>4d7aa83ee540f04d66ba16dc</td>\n",
       "      <td>Bistro SK</td>\n",
       "    </tr>\n",
       "    <tr>\n",
       "      <th>1</th>\n",
       "      <td>Brooklyn</td>\n",
       "      <td>Greenpoint</td>\n",
       "      <td>5bf358689fca56002c251a87</td>\n",
       "      <td>Citroën</td>\n",
       "    </tr>\n",
       "    <tr>\n",
       "      <th>2</th>\n",
       "      <td>Brooklyn</td>\n",
       "      <td>Greenpoint</td>\n",
       "      <td>58fd34584382ab70ad90083e</td>\n",
       "      <td>Chez Ma Tante</td>\n",
       "    </tr>\n",
       "    <tr>\n",
       "      <th>3</th>\n",
       "      <td>Brooklyn</td>\n",
       "      <td>Greenpoint</td>\n",
       "      <td>4bcf1883c564ef3ba33beff0</td>\n",
       "      <td>Le Gamin</td>\n",
       "    </tr>\n",
       "    <tr>\n",
       "      <th>4</th>\n",
       "      <td>Brooklyn</td>\n",
       "      <td>Windsor Terrace</td>\n",
       "      <td>4e7d174cb6340a4da75a2cca</td>\n",
       "      <td>Le Paddock</td>\n",
       "    </tr>\n",
       "  </tbody>\n",
       "</table>\n",
       "</div>"
      ],
      "text/plain": [
       "    Borough     Neighborhood                        ID           Name\n",
       "0     Bronx      City Island  4d7aa83ee540f04d66ba16dc      Bistro SK\n",
       "1  Brooklyn       Greenpoint  5bf358689fca56002c251a87        Citroën\n",
       "2  Brooklyn       Greenpoint  58fd34584382ab70ad90083e  Chez Ma Tante\n",
       "3  Brooklyn       Greenpoint  4bcf1883c564ef3ba33beff0       Le Gamin\n",
       "4  Brooklyn  Windsor Terrace  4e7d174cb6340a4da75a2cca     Le Paddock"
      ]
     },
     "execution_count": 35,
     "metadata": {},
     "output_type": "execute_result"
    }
   ],
   "source": [
    "french_rest_ny.head()"
   ]
  },
  {
   "cell_type": "code",
   "execution_count": 36,
   "metadata": {},
   "outputs": [
    {
     "data": {
      "text/plain": [
       "(95, 4)"
      ]
     },
     "execution_count": 36,
     "metadata": {},
     "output_type": "execute_result"
    }
   ],
   "source": [
    "french_rest_ny.shape"
   ]
  },
  {
   "cell_type": "markdown",
   "metadata": {},
   "source": [
    "We got 95 French Resturants across New York City"
   ]
  },
  {
   "cell_type": "code",
   "execution_count": 37,
   "metadata": {},
   "outputs": [
    {
     "data": {
      "image/png": "[encoded data removed]",
      "text/plain": [
       "<Figure size 900x500 with 1 Axes>"
      ]
     },
     "metadata": {
      "needs_background": "light"
     },
     "output_type": "display_data"
    }
   ],
   "source": [
    "plt.figure(figsize=(9,5), dpi = 100)\n",
    "# title\n",
    "plt.title('Number of French Resturants for each Borough in New York City')\n",
    "#On x-axis\n",
    "plt.xlabel('Borough', fontsize = 15)\n",
    "#On y-axis\n",
    "plt.ylabel('No.of French Resturants', fontsize=15)\n",
    "#giving a bar plot\n",
    "french_rest_ny.groupby('Borough')['ID'].count().plot(kind='bar')\n",
    "#legend\n",
    "plt.legend()\n",
    "#displays the plot\n",
    "plt.show()"
   ]
  },
  {
   "cell_type": "markdown",
   "metadata": {},
   "source": [
    "We see that Manhattan has the largest number of french resturants"
   ]
  },
  {
   "cell_type": "code",
   "execution_count": 38,
   "metadata": {},
   "outputs": [
    {
     "data": {
      "image/png": "[encoded data removed]",
      "text/plain": [
       "<Figure size 900x500 with 1 Axes>"
      ]
     },
     "metadata": {
      "needs_background": "light"
     },
     "output_type": "display_data"
    }
   ],
   "source": [
    "plt.figure(figsize=(9,5), dpi = 100)\n",
    "# title\n",
    "plt.title('Number of French Resturants for each Neighborhood in New York City')\n",
    "#On x-axis\n",
    "plt.xlabel('Neighborhood', fontsize = 15)\n",
    "#On y-axis\n",
    "plt.ylabel('No.of French Resturants', fontsize=15)\n",
    "#giving a bar plot\n",
    "french_rest_ny.groupby('Neighborhood')['ID'].count().nlargest(5).plot(kind='bar')\n",
    "#legend\n",
    "plt.legend()\n",
    "#displays the plot\n",
    "plt.show()"
   ]
  },
  {
   "cell_type": "code",
   "execution_count": 39,
   "metadata": {},
   "outputs": [
    {
     "data": {
      "text/html": [
       "<div>\n",
       "<style scoped>\n",
       "    .dataframe tbody tr th:only-of-type {\n",
       "        vertical-align: middle;\n",
       "    }\n",
       "\n",
       "    .dataframe tbody tr th {\n",
       "        vertical-align: top;\n",
       "    }\n",
       "\n",
       "    .dataframe thead th {\n",
       "        text-align: right;\n",
       "    }\n",
       "</style>\n",
       "<table border=\"1\" class=\"dataframe\">\n",
       "  <thead>\n",
       "    <tr style=\"text-align: right;\">\n",
       "      <th></th>\n",
       "      <th>Borough</th>\n",
       "      <th>Neighborhood</th>\n",
       "      <th>ID</th>\n",
       "      <th>Name</th>\n",
       "    </tr>\n",
       "  </thead>\n",
       "  <tbody>\n",
       "    <tr>\n",
       "      <th>77</th>\n",
       "      <td>Manhattan</td>\n",
       "      <td>Civic Center</td>\n",
       "      <td>3fd66200f964a52083e61ee3</td>\n",
       "      <td>The Odeon</td>\n",
       "    </tr>\n",
       "    <tr>\n",
       "      <th>78</th>\n",
       "      <td>Manhattan</td>\n",
       "      <td>Civic Center</td>\n",
       "      <td>566c9c87498ef09a2940e605</td>\n",
       "      <td>Maman</td>\n",
       "    </tr>\n",
       "    <tr>\n",
       "      <th>79</th>\n",
       "      <td>Manhattan</td>\n",
       "      <td>Civic Center</td>\n",
       "      <td>58191674ded8f8626ed70af0</td>\n",
       "      <td>Augustine</td>\n",
       "    </tr>\n",
       "    <tr>\n",
       "      <th>80</th>\n",
       "      <td>Manhattan</td>\n",
       "      <td>Civic Center</td>\n",
       "      <td>5abc33ccad17896edaca3d61</td>\n",
       "      <td>Frenchette</td>\n",
       "    </tr>\n",
       "    <tr>\n",
       "      <th>81</th>\n",
       "      <td>Manhattan</td>\n",
       "      <td>Civic Center</td>\n",
       "      <td>57583641498e90001a32e13e</td>\n",
       "      <td>Le Coucou</td>\n",
       "    </tr>\n",
       "  </tbody>\n",
       "</table>\n",
       "</div>"
      ],
      "text/plain": [
       "      Borough  Neighborhood                        ID        Name\n",
       "77  Manhattan  Civic Center  3fd66200f964a52083e61ee3   The Odeon\n",
       "78  Manhattan  Civic Center  566c9c87498ef09a2940e605       Maman\n",
       "79  Manhattan  Civic Center  58191674ded8f8626ed70af0   Augustine\n",
       "80  Manhattan  Civic Center  5abc33ccad17896edaca3d61  Frenchette\n",
       "81  Manhattan  Civic Center  57583641498e90001a32e13e   Le Coucou"
      ]
     },
     "execution_count": 39,
     "metadata": {},
     "output_type": "execute_result"
    }
   ],
   "source": [
    "french_rest_ny[french_rest_ny['Neighborhood']=='Civic Center']"
   ]
  },
  {
   "cell_type": "markdown",
   "metadata": {},
   "source": [
    "So Civic Center in Manhattan has the highest number of French Resturants with a total count of 5.\n",
    "\n",
    "Now we will get the ranking of each resturant for further analysis."
   ]
  },
  {
   "cell_type": "code",
   "execution_count": 41,
   "metadata": {},
   "outputs": [
    {
     "name": "stdout",
     "output_type": "stream",
     "text": [
      "                         ID       Name  Likes  Rating  Tips\n",
      "0  4d7aa83ee540f04d66ba16dc  Bistro SK     14     7.6     7\n",
      "( 1 / 95 ) processed\n",
      "                         ID     Name  Likes  Rating  Tips\n",
      "0  5bf358689fca56002c251a87  Citroën     16     8.9     2\n",
      "( 2 / 95 ) processed\n",
      "                         ID           Name  Likes  Rating  Tips\n",
      "0  58fd34584382ab70ad90083e  Chez Ma Tante    191     9.0    50\n",
      "( 3 / 95 ) processed\n",
      "                         ID      Name  Likes  Rating  Tips\n",
      "0  4bcf1883c564ef3ba33beff0  Le Gamin    156     8.0    72\n",
      "( 4 / 95 ) processed\n",
      "                         ID        Name  Likes  Rating  Tips\n",
      "0  4e7d174cb6340a4da75a2cca  Le Paddock    129     8.6    54\n",
      "( 5 / 95 ) processed\n",
      "                         ID        Name  Likes  Rating  Tips\n",
      "0  5a7f2773d1a40265ea809163  La Cafette     33     8.7     7\n",
      "( 6 / 95 ) processed\n",
      "                         ID         Name  Likes  Rating  Tips\n",
      "0  465c180df964a5202a471fe3  Le Barricou    828     8.9   281\n",
      "( 7 / 95 ) processed\n",
      "                         ID       Name  Likes  Rating  Tips\n",
      "0  55e47d26498e44d12c7c004e  Le Garage     88     8.2    24\n",
      "( 8 / 95 ) processed\n",
      "                         ID       Name  Likes  Rating  Tips\n",
      "0  50b99e4ae4b0c22ba9633dfd  Mominette    335     8.4    79\n",
      "( 9 / 95 ) processed\n",
      "                         ID            Name  Likes  Rating  Tips\n",
      "0  5003007de4b06d50188aa593  Le Paris Dakar    144     8.6    41\n",
      "( 10 / 95 ) processed\n",
      "                         ID      Name  Likes  Rating  Tips\n",
      "0  4f7f8b86e4b088077df30175  Chez Moi    186     8.2    71\n",
      "( 11 / 95 ) processed\n",
      "                         ID      Name  Likes  Rating  Tips\n",
      "0  4f7f8b86e4b088077df30175  Chez Moi    186     8.2    71\n",
      "( 12 / 95 ) processed\n",
      "                         ID           Name  Likes  Rating  Tips\n",
      "0  4e2ca88afa76bbf847e6886c  Jolie Cantina    206     8.2    78\n",
      "( 13 / 95 ) processed\n",
      "                         ID           Name  Likes  Rating  Tips\n",
      "0  5250553911d262bb0c732ee8  Cafe Paulette    202     8.3    50\n",
      "( 14 / 95 ) processed\n",
      "                         ID        Name  Likes  Rating  Tips\n",
      "0  422b9980f964a520d21f1fe3  Maison May    108     8.2    52\n",
      "( 15 / 95 ) processed\n",
      "                         ID        Name  Likes  Rating  Tips\n",
      "0  422b9980f964a520d21f1fe3  Maison May    108     8.2    52\n",
      "( 16 / 95 ) processed\n",
      "                         ID           Name  Likes  Rating  Tips\n",
      "0  5250553911d262bb0c732ee8  Cafe Paulette    202     8.3    50\n",
      "( 17 / 95 ) processed\n",
      "                         ID          Name  Likes  Rating  Tips\n",
      "0  530931a5498e4079544a5f13  French Louie    552     9.0   112\n",
      "( 18 / 95 ) processed\n",
      "                         ID          Name  Likes  Rating  Tips\n",
      "0  530931a5498e4079544a5f13  French Louie    552     9.0   112\n",
      "( 19 / 95 ) processed\n",
      "                         ID       Name  Likes  Rating  Tips\n",
      "0  3fd66200f964a52058f11ee3  Bar Tabac    441     8.3   209\n",
      "( 20 / 95 ) processed\n",
      "                         ID      Name  Likes  Rating  Tips\n",
      "0  4554c3b0f964a520113d1fe3  Juliette    761     8.6   271\n",
      "( 21 / 95 ) processed\n",
      "                         ID        Name  Likes  Rating  Tips\n",
      "0  5a7f2773d1a40265ea809163  La Cafette     33     8.7     7\n",
      "( 22 / 95 ) processed\n",
      "                         ID                 Name  Likes  Rating  Tips\n",
      "0  49f38062f964a520ae6a1fe3  Pates Et Traditions    351     9.1   137\n",
      "( 23 / 95 ) processed\n",
      "                         ID        Name  Likes  Rating  Tips\n",
      "0  5a7f2773d1a40265ea809163  La Cafette     33     8.7     7\n",
      "( 24 / 95 ) processed\n",
      "                         ID                 Name  Likes  Rating  Tips\n",
      "0  49f38062f964a520ae6a1fe3  Pates Et Traditions    351     9.1   137\n",
      "( 25 / 95 ) processed\n",
      "                         ID         Name  Likes  Rating  Tips\n",
      "0  465c180df964a5202a471fe3  Le Barricou    828     8.9   281\n",
      "( 26 / 95 ) processed\n",
      "                         ID       Name  Likes  Rating  Tips\n",
      "0  57583641498e90001a32e13e  Le Coucou    360     9.1    85\n",
      "( 27 / 95 ) processed\n",
      "                         ID           Name  Likes  Rating  Tips\n",
      "0  511a937ee88968b8acbba54b  Maison Harlem    287     8.6    85\n",
      "( 28 / 95 ) processed\n",
      "                         ID     Name  Likes  Rating  Tips\n",
      "0  4b80389ff964a520e95d30e3  Yatenga    102     8.6    61\n",
      "( 29 / 95 ) processed\n",
      "                         ID                Name  Likes  Rating  Tips\n",
      "0  59cc6158c0af57432b9fd02b  Renaissance Harlem     10     7.7     2\n",
      "( 30 / 95 ) processed\n",
      "                         ID           Name  Likes  Rating  Tips\n",
      "0  511a937ee88968b8acbba54b  Maison Harlem    287     8.6    85\n",
      "( 31 / 95 ) processed\n",
      "                         ID           Name  Likes  Rating  Tips\n",
      "0  4a88b008f964a520610720e3  Chez Lucienne     97     7.4    79\n",
      "( 32 / 95 ) processed\n",
      "                         ID           Name  Likes  Rating  Tips\n",
      "0  553c1b00498e7eb81316bf1b  Mountain Bird     72     9.1    18\n",
      "( 33 / 95 ) processed\n",
      "                         ID         Name  Likes  Rating  Tips\n",
      "0  3fd66200f964a5207fe91ee3  Café Boulud    250     8.7    93\n",
      "( 34 / 95 ) processed\n",
      "                         ID        Name  Likes  Rating  Tips\n",
      "0  533b5715498ee1e90e846e1d  The Simone     13     8.2    11\n",
      "( 35 / 95 ) processed\n",
      "                         ID   Name  Likes  Rating  Tips\n",
      "0  4408540af964a52055301fe3  Orsay    147     8.2    45\n",
      "( 36 / 95 ) processed\n",
      "                         ID           Name  Likes  Rating  Tips\n",
      "0  467ffefcf964a52019481fe3  Cafe D'Alsace    516     8.7   173\n",
      "( 37 / 95 ) processed\n",
      "                         ID   Name  Likes  Rating  Tips\n",
      "0  4408540af964a52055301fe3  Orsay    147     8.2    45\n",
      "( 38 / 95 ) processed\n",
      "                         ID              Name  Likes  Rating  Tips\n",
      "0  4d8e49c36174a0935ff2c4e3  Le Moulin A Cafe    150     8.5    62\n",
      "( 39 / 95 ) processed\n",
      "                         ID  Name  Likes  Rating  Tips\n",
      "0  437bc800f964a520a22a1fe3  JoJo    123     8.6    57\n",
      "( 40 / 95 ) processed\n",
      "                         ID    Name  Likes  Rating  Tips\n",
      "0  3fd66200f964a520dee71ee3  Daniel    464     9.1   182\n",
      "( 41 / 95 ) processed\n",
      "                         ID              Name  Likes  Rating  Tips\n",
      "0  4d8e49c36174a0935ff2c4e3  Le Moulin A Cafe    150     8.5    62\n",
      "( 42 / 95 ) processed\n",
      "                         ID             Name  Likes  Rating  Tips\n",
      "0  414ccc00f964a520d21c1fe3  Cafe Luxembourg    295     8.5    97\n",
      "( 43 / 95 ) processed\n",
      "                         ID          Name  Likes  Rating  Tips\n",
      "0  3fd66200f964a520bee91ee3  Jean-Georges    548     9.1   282\n",
      "( 44 / 95 ) processed\n",
      "                         ID                       Name  Likes  Rating  Tips\n",
      "0  49e7897ff964a520b6641fe3  Nougatine at Jean Georges    261     8.8   100\n",
      "( 45 / 95 ) processed\n",
      "                         ID    Name  Likes  Rating  Tips\n",
      "0  41f19780f964a520101f1fe3  per se    389     8.7   192\n",
      "( 46 / 95 ) processed\n",
      "                         ID                Name  Likes  Rating  Tips\n",
      "0  59c724adb3d8e220e8c71ab8  Intersect By Lexus     51     9.0     8\n",
      "( 47 / 95 ) processed\n",
      "                         ID    Name  Likes  Rating  Tips\n",
      "0  5ce5b1f1f5e9d7002c4ad547  Pastis     45     9.0    10\n",
      "( 48 / 95 ) processed\n",
      "                         ID                Name  Likes  Rating  Tips\n",
      "0  3fd66200f964a52006e61ee3  Raoul's Restaurant    368     9.0   149\n",
      "( 49 / 95 ) processed\n",
      "                         ID       Name  Likes  Rating  Tips\n",
      "0  3fd66200f964a52070e91ee3  Balthazar   2998     9.0  1044\n",
      "( 50 / 95 ) processed\n",
      "                         ID      Name  Likes  Rating  Tips\n",
      "0  5b63aefffe63bd0039d0c297  Windmill     12     8.6     1\n",
      "( 51 / 95 ) processed\n",
      "                         ID          Name  Likes  Rating  Tips\n",
      "0  53b8c811498ee296db5cfaed  Dirty French    495     8.6   136\n",
      "( 52 / 95 ) processed\n",
      "                         ID        Name  Likes  Rating  Tips\n",
      "0  5abc33ccad17896edaca3d61  Frenchette    156     8.8    30\n",
      "( 53 / 95 ) processed\n",
      "                         ID   Name  Likes  Rating  Tips\n",
      "0  566c9c87498ef09a2940e605  Maman    280     8.7    64\n",
      "( 54 / 95 ) processed\n",
      "                         ID       Name  Likes  Rating  Tips\n",
      "0  3fd66200f964a52083e61ee3  The Odeon    703     8.6   207\n",
      "( 55 / 95 ) processed\n",
      "                         ID       Name  Likes  Rating  Tips\n",
      "0  57583641498e90001a32e13e  Le Coucou    360     9.1    85\n",
      "( 56 / 95 ) processed\n",
      "                         ID       Name  Likes  Rating  Tips\n",
      "0  3fd66200f964a52070e91ee3  Balthazar   2998     9.0  1044\n",
      "( 57 / 95 ) processed\n",
      "                         ID       Name  Likes  Rating  Tips\n",
      "0  3fd66200f964a52070e91ee3  Balthazar   2998     9.0  1044\n",
      "( 58 / 95 ) processed\n",
      "                         ID       Name  Likes  Rating  Tips\n",
      "0  57583641498e90001a32e13e  Le Coucou    360     9.1    85\n",
      "( 59 / 95 ) processed\n",
      "                         ID     Name  Likes  Rating  Tips\n",
      "0  50899082e4b0645d657eb40f  Cocotte    225     8.9    68\n",
      "( 60 / 95 ) processed\n",
      "                         ID                Name  Likes  Rating  Tips\n",
      "0  3fd66200f964a52006e61ee3  Raoul's Restaurant    368     9.0   149\n",
      "( 61 / 95 ) processed\n",
      "                         ID     Name  Likes  Rating  Tips\n",
      "0  4d0bf7e3f29c236ac675bfe7  Buvette   1793     9.3   503\n",
      "( 62 / 95 ) processed\n",
      "                         ID            Name  Likes  Rating  Tips\n",
      "0  44e86a78f964a5209c371fe3  Cafe du Soleil     83     7.5    54\n",
      "( 63 / 95 ) processed\n",
      "                         ID         Name  Likes  Rating  Tips\n",
      "0  56df2048498e221ed0a02e0c  Le Coq Rico    148     8.4    41\n",
      "( 64 / 95 ) processed\n",
      "                         ID           Name  Likes  Rating  Tips\n",
      "0  5a47a5e4e679bc7b226989ca  La Parisienne     46     8.4    10\n",
      "( 65 / 95 ) processed\n",
      "                         ID           Name  Likes  Rating  Tips\n",
      "0  5a47a5e4e679bc7b226989ca  La Parisienne     46     8.4    10\n",
      "( 66 / 95 ) processed\n",
      "                         ID             Name  Likes  Rating  Tips\n",
      "0  4eceef679a52262b810ab3bd  Bliss 46 Bistro     14     7.2    17\n",
      "( 67 / 95 ) processed\n",
      "                         ID                  Name  Likes  Rating  Tips\n",
      "0  4b428a19f964a52002d625e3  La Baraka Restaurant     16     7.5    14\n",
      "( 68 / 95 ) processed\n",
      "                         ID                  Name  Likes  Rating  Tips\n",
      "0  4b428a19f964a52002d625e3  La Baraka Restaurant     16     7.5    14\n",
      "( 69 / 95 ) processed\n",
      "                         ID           Name  Likes  Rating  Tips\n",
      "0  467fc553f964a52016481fe3  Café Triskell     74     8.7    41\n",
      "( 70 / 95 ) processed\n",
      "                         ID                  Name  Likes  Rating  Tips\n",
      "0  4f71ce9de4b0a89fa4b084de  Cuisine By Claudette     23     8.6     9\n",
      "( 71 / 95 ) processed\n",
      "                         ID                        Name  Likes  Rating  Tips\n",
      "0  4da08c63bb206ea8da50defd  French Tart (Chez Laurent)      6     7.0     3\n",
      "( 72 / 95 ) processed\n",
      "                         ID                        Name  Likes  Rating  Tips\n",
      "0  4da08c63bb206ea8da50defd  French Tart (Chez Laurent)      6     7.0     3\n",
      "( 73 / 95 ) processed\n",
      "                         ID          Name  Likes  Rating  Tips\n",
      "0  4b9d2218f964a5207e9236e3  Table d'Hote     44     8.3    20\n",
      "( 74 / 95 ) processed\n",
      "                         ID           Name  Likes  Rating  Tips\n",
      "0  467ffefcf964a52019481fe3  Cafe D'Alsace    516     8.7   173\n",
      "( 75 / 95 ) processed\n",
      "                         ID             Name  Likes  Rating  Tips\n",
      "0  5303f306498ebbca8f7e1158  Le French Diner     59     8.9    19\n",
      "( 76 / 95 ) processed\n",
      "                         ID    Name  Likes  Rating  Tips\n",
      "0  3fd66200f964a5202de51ee3  Lucien    207     8.9    74\n",
      "( 77 / 95 ) processed\n",
      "                         ID       Name  Likes  Rating  Tips\n",
      "0  3fd66200f964a52083e61ee3  The Odeon    703     8.6   207\n",
      "( 78 / 95 ) processed\n",
      "                         ID   Name  Likes  Rating  Tips\n",
      "0  566c9c87498ef09a2940e605  Maman    280     8.7    64\n",
      "( 79 / 95 ) processed\n",
      "                         ID       Name  Likes  Rating  Tips\n",
      "0  58191674ded8f8626ed70af0  Augustine    217     8.8    37\n",
      "( 80 / 95 ) processed\n",
      "                         ID        Name  Likes  Rating  Tips\n",
      "0  5abc33ccad17896edaca3d61  Frenchette    156     8.8    30\n",
      "( 81 / 95 ) processed\n",
      "                         ID       Name  Likes  Rating  Tips\n",
      "0  57583641498e90001a32e13e  Le Coucou    360     9.1    85\n",
      "( 82 / 95 ) processed\n",
      "                         ID               Name  Likes  Rating  Tips\n",
      "0  594165b72f97ec4d2e3b1354  Le Petit Parisien     14     8.8     5\n",
      "( 83 / 95 ) processed\n",
      "                         ID  Name  Likes  Rating  Tips\n",
      "0  437bc800f964a520a22a1fe3  JoJo    123     8.6    57\n",
      "( 84 / 95 ) processed\n",
      "                         ID      Name  Likes  Rating  Tips\n",
      "0  55dbb426498e7f12a5ba62c5  Vaucluse    106     8.5    31\n",
      "( 85 / 95 ) processed\n",
      "                         ID            Name  Likes  Rating  Tips\n",
      "0  3fd66200f964a5200ae81ee3  Le Bateau Ivre    117     8.7    76\n",
      "( 86 / 95 ) processed\n",
      "                         ID       Name  Likes  Rating  Tips\n",
      "0  4a216706f964a520e27c1fe3  Tournesol    113     8.4    71\n",
      "( 87 / 95 ) processed\n",
      "                         ID       Name  Likes  Rating  Tips\n",
      "0  4a64fda8f964a52023c71fe3  Deux Amis     49     8.3    23\n",
      "( 88 / 95 ) processed\n",
      "                         ID            Name  Likes  Rating  Tips\n",
      "0  3fd66200f964a5200ae81ee3  Le Bateau Ivre    117     8.7    76\n",
      "( 89 / 95 ) processed\n",
      "                         ID               Name  Likes  Rating  Tips\n",
      "0  594165b72f97ec4d2e3b1354  Le Petit Parisien     14     8.8     5\n",
      "( 90 / 95 ) processed\n",
      "                         ID              Name  Likes  Rating  Tips\n",
      "0  533d99c8498e4ed0ad9db108  Chicken Provence     66     8.1    14\n",
      "( 91 / 95 ) processed\n",
      "                         ID         Name  Likes  Rating  Tips\n",
      "0  57f57d5dcd1047e759ea8838  Côté Soleil     20     7.8     6\n",
      "( 92 / 95 ) processed\n",
      "                         ID             Name  Likes  Rating  Tips\n",
      "0  4eceef679a52262b810ab3bd  Bliss 46 Bistro     14     7.2    17\n",
      "( 93 / 95 ) processed\n",
      "                         ID        Name  Likes  Rating  Tips\n",
      "0  439591fcf964a5208c2b1fe3  Chez Oskar    193     8.5    95\n",
      "( 94 / 95 ) processed\n",
      "                         ID            Name  Likes  Rating  Tips\n",
      "0  3fd66200f964a5208de91ee3  Chez Josephine    106     8.3    53\n",
      "( 95 / 95 ) processed\n"
     ]
    }
   ],
   "source": [
    "# prepare neighborhood list that contains french resturants\n",
    "column_names=['Borough', 'Neighborhood', 'ID','Name','Likes','Rating','Tips']\n",
    "french_rest_stats_ny=pd.DataFrame(columns=column_names)\n",
    "count=1\n",
    "\n",
    "\n",
    "for row in french_rest_ny.values.tolist():\n",
    "    Borough,Neighborhood,ID,Name=row\n",
    "    try:\n",
    "        venue_details=get_venue_details(ID)\n",
    "        print(venue_details)\n",
    "        id,name,likes,rating,tips=venue_details.values.tolist()[0]\n",
    "    except IndexError:\n",
    "        print('No data available for id=',ID)\n",
    "        # we will assign 0 value for these resturants as they may have been \n",
    "        #recently opened or details does not exist in FourSquare Database\n",
    "        id,name,likes,rating,tips=[0]*5\n",
    "    print('(',count,'/',len(french_rest_ny),')','processed')\n",
    "    french_rest_stats_ny = french_rest_stats_ny.append({'Borough': Borough,\n",
    "                                                'Neighborhood': Neighborhood, \n",
    "                                                'ID': id,\n",
    "                                                'Name' : name,\n",
    "                                                'Likes' : likes,\n",
    "                                                'Rating' : rating,\n",
    "                                                'Tips' : tips\n",
    "                                               }, ignore_index=True)\n",
    "    count+=1"
   ]
  },
  {
   "cell_type": "code",
   "execution_count": 42,
   "metadata": {},
   "outputs": [
    {
     "data": {
      "text/html": [
       "<div>\n",
       "<style scoped>\n",
       "    .dataframe tbody tr th:only-of-type {\n",
       "        vertical-align: middle;\n",
       "    }\n",
       "\n",
       "    .dataframe tbody tr th {\n",
       "        vertical-align: top;\n",
       "    }\n",
       "\n",
       "    .dataframe thead th {\n",
       "        text-align: right;\n",
       "    }\n",
       "</style>\n",
       "<table border=\"1\" class=\"dataframe\">\n",
       "  <thead>\n",
       "    <tr style=\"text-align: right;\">\n",
       "      <th></th>\n",
       "      <th>Borough</th>\n",
       "      <th>Neighborhood</th>\n",
       "      <th>ID</th>\n",
       "      <th>Name</th>\n",
       "      <th>Likes</th>\n",
       "      <th>Rating</th>\n",
       "      <th>Tips</th>\n",
       "    </tr>\n",
       "  </thead>\n",
       "  <tbody>\n",
       "    <tr>\n",
       "      <th>0</th>\n",
       "      <td>Bronx</td>\n",
       "      <td>City Island</td>\n",
       "      <td>4d7aa83ee540f04d66ba16dc</td>\n",
       "      <td>Bistro SK</td>\n",
       "      <td>14</td>\n",
       "      <td>7.6</td>\n",
       "      <td>7</td>\n",
       "    </tr>\n",
       "    <tr>\n",
       "      <th>1</th>\n",
       "      <td>Brooklyn</td>\n",
       "      <td>Greenpoint</td>\n",
       "      <td>5bf358689fca56002c251a87</td>\n",
       "      <td>Citroën</td>\n",
       "      <td>16</td>\n",
       "      <td>8.9</td>\n",
       "      <td>2</td>\n",
       "    </tr>\n",
       "    <tr>\n",
       "      <th>2</th>\n",
       "      <td>Brooklyn</td>\n",
       "      <td>Greenpoint</td>\n",
       "      <td>58fd34584382ab70ad90083e</td>\n",
       "      <td>Chez Ma Tante</td>\n",
       "      <td>191</td>\n",
       "      <td>9.0</td>\n",
       "      <td>50</td>\n",
       "    </tr>\n",
       "    <tr>\n",
       "      <th>3</th>\n",
       "      <td>Brooklyn</td>\n",
       "      <td>Greenpoint</td>\n",
       "      <td>4bcf1883c564ef3ba33beff0</td>\n",
       "      <td>Le Gamin</td>\n",
       "      <td>156</td>\n",
       "      <td>8.0</td>\n",
       "      <td>72</td>\n",
       "    </tr>\n",
       "    <tr>\n",
       "      <th>4</th>\n",
       "      <td>Brooklyn</td>\n",
       "      <td>Windsor Terrace</td>\n",
       "      <td>4e7d174cb6340a4da75a2cca</td>\n",
       "      <td>Le Paddock</td>\n",
       "      <td>129</td>\n",
       "      <td>8.6</td>\n",
       "      <td>54</td>\n",
       "    </tr>\n",
       "  </tbody>\n",
       "</table>\n",
       "</div>"
      ],
      "text/plain": [
       "    Borough     Neighborhood                        ID           Name Likes  \\\n",
       "0     Bronx      City Island  4d7aa83ee540f04d66ba16dc      Bistro SK    14   \n",
       "1  Brooklyn       Greenpoint  5bf358689fca56002c251a87        Citroën    16   \n",
       "2  Brooklyn       Greenpoint  58fd34584382ab70ad90083e  Chez Ma Tante   191   \n",
       "3  Brooklyn       Greenpoint  4bcf1883c564ef3ba33beff0       Le Gamin   156   \n",
       "4  Brooklyn  Windsor Terrace  4e7d174cb6340a4da75a2cca     Le Paddock   129   \n",
       "\n",
       "   Rating Tips  \n",
       "0     7.6    7  \n",
       "1     8.9    2  \n",
       "2     9.0   50  \n",
       "3     8.0   72  \n",
       "4     8.6   54  "
      ]
     },
     "execution_count": 42,
     "metadata": {},
     "output_type": "execute_result"
    }
   ],
   "source": [
    "french_rest_stats_ny.head()"
   ]
  },
  {
   "cell_type": "code",
   "execution_count": 43,
   "metadata": {},
   "outputs": [
    {
     "data": {
      "text/plain": [
       "(95, 7)"
      ]
     },
     "execution_count": 43,
     "metadata": {},
     "output_type": "execute_result"
    }
   ],
   "source": [
    "french_rest_stats_ny.shape"
   ]
  },
  {
   "cell_type": "code",
   "execution_count": 44,
   "metadata": {},
   "outputs": [
    {
     "data": {
      "text/plain": [
       "(95, 4)"
      ]
     },
     "execution_count": 44,
     "metadata": {},
     "output_type": "execute_result"
    }
   ],
   "source": [
    "french_rest_ny.shape"
   ]
  },
  {
   "cell_type": "markdown",
   "metadata": {},
   "source": [
    "We got data for all resturants Now lets save this data to a csv sheet. In case we by mistake modify it. As the number of calls to get details for venue are premium call and have limit of 500 per day, we will refer to saved data sheet csv if required"
   ]
  },
  {
   "cell_type": "code",
   "execution_count": 45,
   "metadata": {},
   "outputs": [],
   "source": [
    "french_rest_stats_ny.to_csv('french_rest_stats_ny.csv', index=False)"
   ]
  },
  {
   "cell_type": "markdown",
   "metadata": {},
   "source": [
    "Verify the data from saved csv file"
   ]
  },
  {
   "cell_type": "code",
   "execution_count": 46,
   "metadata": {},
   "outputs": [],
   "source": [
    "french_rest_stats_ny_csv=pd.read_csv('french_rest_stats_ny.csv')"
   ]
  },
  {
   "cell_type": "code",
   "execution_count": 47,
   "metadata": {},
   "outputs": [
    {
     "data": {
      "text/plain": [
       "(95, 7)"
      ]
     },
     "execution_count": 47,
     "metadata": {},
     "output_type": "execute_result"
    }
   ],
   "source": [
    "french_rest_stats_ny_csv.shape"
   ]
  },
  {
   "cell_type": "code",
   "execution_count": 49,
   "metadata": {},
   "outputs": [
    {
     "data": {
      "text/html": [
       "<div>\n",
       "<style scoped>\n",
       "    .dataframe tbody tr th:only-of-type {\n",
       "        vertical-align: middle;\n",
       "    }\n",
       "\n",
       "    .dataframe tbody tr th {\n",
       "        vertical-align: top;\n",
       "    }\n",
       "\n",
       "    .dataframe thead th {\n",
       "        text-align: right;\n",
       "    }\n",
       "</style>\n",
       "<table border=\"1\" class=\"dataframe\">\n",
       "  <thead>\n",
       "    <tr style=\"text-align: right;\">\n",
       "      <th></th>\n",
       "      <th>Borough</th>\n",
       "      <th>Neighborhood</th>\n",
       "      <th>ID</th>\n",
       "      <th>Name</th>\n",
       "      <th>Likes</th>\n",
       "      <th>Rating</th>\n",
       "      <th>Tips</th>\n",
       "    </tr>\n",
       "  </thead>\n",
       "  <tbody>\n",
       "    <tr>\n",
       "      <th>0</th>\n",
       "      <td>Bronx</td>\n",
       "      <td>City Island</td>\n",
       "      <td>4d7aa83ee540f04d66ba16dc</td>\n",
       "      <td>Bistro SK</td>\n",
       "      <td>14</td>\n",
       "      <td>7.6</td>\n",
       "      <td>7</td>\n",
       "    </tr>\n",
       "    <tr>\n",
       "      <th>1</th>\n",
       "      <td>Brooklyn</td>\n",
       "      <td>Greenpoint</td>\n",
       "      <td>5bf358689fca56002c251a87</td>\n",
       "      <td>Citroën</td>\n",
       "      <td>16</td>\n",
       "      <td>8.9</td>\n",
       "      <td>2</td>\n",
       "    </tr>\n",
       "    <tr>\n",
       "      <th>2</th>\n",
       "      <td>Brooklyn</td>\n",
       "      <td>Greenpoint</td>\n",
       "      <td>58fd34584382ab70ad90083e</td>\n",
       "      <td>Chez Ma Tante</td>\n",
       "      <td>191</td>\n",
       "      <td>9.0</td>\n",
       "      <td>50</td>\n",
       "    </tr>\n",
       "    <tr>\n",
       "      <th>3</th>\n",
       "      <td>Brooklyn</td>\n",
       "      <td>Greenpoint</td>\n",
       "      <td>4bcf1883c564ef3ba33beff0</td>\n",
       "      <td>Le Gamin</td>\n",
       "      <td>156</td>\n",
       "      <td>8.0</td>\n",
       "      <td>72</td>\n",
       "    </tr>\n",
       "    <tr>\n",
       "      <th>4</th>\n",
       "      <td>Brooklyn</td>\n",
       "      <td>Windsor Terrace</td>\n",
       "      <td>4e7d174cb6340a4da75a2cca</td>\n",
       "      <td>Le Paddock</td>\n",
       "      <td>129</td>\n",
       "      <td>8.6</td>\n",
       "      <td>54</td>\n",
       "    </tr>\n",
       "  </tbody>\n",
       "</table>\n",
       "</div>"
      ],
      "text/plain": [
       "    Borough     Neighborhood                        ID           Name  Likes  \\\n",
       "0     Bronx      City Island  4d7aa83ee540f04d66ba16dc      Bistro SK     14   \n",
       "1  Brooklyn       Greenpoint  5bf358689fca56002c251a87        Citroën     16   \n",
       "2  Brooklyn       Greenpoint  58fd34584382ab70ad90083e  Chez Ma Tante    191   \n",
       "3  Brooklyn       Greenpoint  4bcf1883c564ef3ba33beff0       Le Gamin    156   \n",
       "4  Brooklyn  Windsor Terrace  4e7d174cb6340a4da75a2cca     Le Paddock    129   \n",
       "\n",
       "   Rating  Tips  \n",
       "0     7.6     7  \n",
       "1     8.9     2  \n",
       "2     9.0    50  \n",
       "3     8.0    72  \n",
       "4     8.6    54  "
      ]
     },
     "execution_count": 49,
     "metadata": {},
     "output_type": "execute_result"
    }
   ],
   "source": [
    "french_rest_stats_ny_csv.head()"
   ]
  },
  {
   "cell_type": "code",
   "execution_count": 50,
   "metadata": {},
   "outputs": [
    {
     "name": "stdout",
     "output_type": "stream",
     "text": [
      "<class 'pandas.core.frame.DataFrame'>\n",
      "RangeIndex: 95 entries, 0 to 94\n",
      "Data columns (total 7 columns):\n",
      "Borough         95 non-null object\n",
      "Neighborhood    95 non-null object\n",
      "ID              95 non-null object\n",
      "Name            95 non-null object\n",
      "Likes           95 non-null object\n",
      "Rating          95 non-null float64\n",
      "Tips            95 non-null object\n",
      "dtypes: float64(1), object(6)\n",
      "memory usage: 5.3+ KB\n"
     ]
    }
   ],
   "source": [
    "french_rest_stats_ny.info()"
   ]
  },
  {
   "cell_type": "markdown",
   "metadata": {},
   "source": [
    "We see that values like Likes, Tips are strig values. We would need to convert them into float for further analysis"
   ]
  },
  {
   "cell_type": "code",
   "execution_count": 51,
   "metadata": {},
   "outputs": [
    {
     "name": "stdout",
     "output_type": "stream",
     "text": [
      "<class 'pandas.core.frame.DataFrame'>\n",
      "RangeIndex: 95 entries, 0 to 94\n",
      "Data columns (total 7 columns):\n",
      "Borough         95 non-null object\n",
      "Neighborhood    95 non-null object\n",
      "ID              95 non-null object\n",
      "Name            95 non-null object\n",
      "Likes           95 non-null float64\n",
      "Rating          95 non-null float64\n",
      "Tips            95 non-null float64\n",
      "dtypes: float64(3), object(4)\n",
      "memory usage: 5.3+ KB\n"
     ]
    }
   ],
   "source": [
    "french_rest_stats_ny['Likes']=french_rest_stats_ny['Likes'].astype('float64')\n",
    "french_rest_stats_ny['Tips']=french_rest_stats_ny['Tips'].astype('float64')\n",
    "french_rest_stats_ny.info()"
   ]
  },
  {
   "cell_type": "code",
   "execution_count": 52,
   "metadata": {},
   "outputs": [
    {
     "data": {
      "text/plain": [
       "Borough                        Manhattan\n",
       "Neighborhood           Greenwich Village\n",
       "ID              3fd66200f964a52070e91ee3\n",
       "Name                           Balthazar\n",
       "Likes                               2998\n",
       "Rating                                 9\n",
       "Tips                                1044\n",
       "Name: 49, dtype: object"
      ]
     },
     "execution_count": 52,
     "metadata": {},
     "output_type": "execute_result"
    }
   ],
   "source": [
    "# Resturant with maximum Likes\n",
    "french_rest_stats_ny.iloc[french_rest_stats_ny['Likes'].idxmax()]"
   ]
  },
  {
   "cell_type": "code",
   "execution_count": 53,
   "metadata": {},
   "outputs": [
    {
     "data": {
      "text/plain": [
       "Borough                        Manhattan\n",
       "Neighborhood           Greenwich Village\n",
       "ID              3fd66200f964a52070e91ee3\n",
       "Name                           Balthazar\n",
       "Likes                               2998\n",
       "Rating                                 9\n",
       "Tips                                1044\n",
       "Name: 49, dtype: object"
      ]
     },
     "execution_count": 53,
     "metadata": {},
     "output_type": "execute_result"
    }
   ],
   "source": [
    "# Resturant with maximum Tips\n",
    "french_rest_stats_ny.iloc[french_rest_stats_ny['Tips'].idxmax()]"
   ]
  },
  {
   "cell_type": "markdown",
   "metadata": {},
   "source": [
    "Now lets visualize neighborhood with maximum average rating of resturants"
   ]
  },
  {
   "cell_type": "code",
   "execution_count": 54,
   "metadata": {},
   "outputs": [],
   "source": [
    "ny_neighborhood_stats=french_rest_stats_ny.groupby('Neighborhood',as_index=False).mean()[['Neighborhood','Rating']]\n",
    "ny_neighborhood_stats.columns=['Neighborhood','Average Rating']"
   ]
  },
  {
   "cell_type": "code",
   "execution_count": 55,
   "metadata": {},
   "outputs": [
    {
     "data": {
      "text/html": [
       "<div>\n",
       "<style scoped>\n",
       "    .dataframe tbody tr th:only-of-type {\n",
       "        vertical-align: middle;\n",
       "    }\n",
       "\n",
       "    .dataframe tbody tr th {\n",
       "        vertical-align: top;\n",
       "    }\n",
       "\n",
       "    .dataframe thead th {\n",
       "        text-align: right;\n",
       "    }\n",
       "</style>\n",
       "<table border=\"1\" class=\"dataframe\">\n",
       "  <thead>\n",
       "    <tr style=\"text-align: right;\">\n",
       "      <th></th>\n",
       "      <th>Neighborhood</th>\n",
       "      <th>Average Rating</th>\n",
       "    </tr>\n",
       "  </thead>\n",
       "  <tbody>\n",
       "    <tr>\n",
       "      <th>48</th>\n",
       "      <td>West Village</td>\n",
       "      <td>9.30</td>\n",
       "    </tr>\n",
       "    <tr>\n",
       "      <th>16</th>\n",
       "      <td>East Harlem</td>\n",
       "      <td>9.10</td>\n",
       "    </tr>\n",
       "    <tr>\n",
       "      <th>9</th>\n",
       "      <td>Chinatown</td>\n",
       "      <td>9.10</td>\n",
       "    </tr>\n",
       "    <tr>\n",
       "      <th>27</th>\n",
       "      <td>Little Italy</td>\n",
       "      <td>9.05</td>\n",
       "    </tr>\n",
       "    <tr>\n",
       "      <th>38</th>\n",
       "      <td>Soho</td>\n",
       "      <td>9.00</td>\n",
       "    </tr>\n",
       "    <tr>\n",
       "      <th>8</th>\n",
       "      <td>Chelsea</td>\n",
       "      <td>9.00</td>\n",
       "    </tr>\n",
       "    <tr>\n",
       "      <th>22</th>\n",
       "      <td>Greenwich Village</td>\n",
       "      <td>9.00</td>\n",
       "    </tr>\n",
       "    <tr>\n",
       "      <th>15</th>\n",
       "      <td>Downtown</td>\n",
       "      <td>9.00</td>\n",
       "    </tr>\n",
       "    <tr>\n",
       "      <th>33</th>\n",
       "      <td>Noho</td>\n",
       "      <td>8.90</td>\n",
       "    </tr>\n",
       "    <tr>\n",
       "      <th>39</th>\n",
       "      <td>South Side</td>\n",
       "      <td>8.90</td>\n",
       "    </tr>\n",
       "  </tbody>\n",
       "</table>\n",
       "</div>"
      ],
      "text/plain": [
       "         Neighborhood  Average Rating\n",
       "48       West Village            9.30\n",
       "16        East Harlem            9.10\n",
       "9           Chinatown            9.10\n",
       "27       Little Italy            9.05\n",
       "38               Soho            9.00\n",
       "8             Chelsea            9.00\n",
       "22  Greenwich Village            9.00\n",
       "15           Downtown            9.00\n",
       "33               Noho            8.90\n",
       "39         South Side            8.90"
      ]
     },
     "execution_count": 55,
     "metadata": {},
     "output_type": "execute_result"
    }
   ],
   "source": [
    "ny_neighborhood_stats.sort_values(['Average Rating'],ascending=False).head(10)"
   ]
  },
  {
   "cell_type": "markdown",
   "metadata": {},
   "source": [
    "Above are the top neighborhoods with top average rating of Indian resturants"
   ]
  },
  {
   "cell_type": "code",
   "execution_count": 56,
   "metadata": {},
   "outputs": [],
   "source": [
    "ny_borough_stats=french_rest_stats_ny.groupby('Borough',as_index=False).mean()[['Borough','Rating']]\n",
    "ny_borough_stats.columns=['Borough','Average Rating']"
   ]
  },
  {
   "cell_type": "code",
   "execution_count": 57,
   "metadata": {},
   "outputs": [
    {
     "data": {
      "text/html": [
       "<div>\n",
       "<style scoped>\n",
       "    .dataframe tbody tr th:only-of-type {\n",
       "        vertical-align: middle;\n",
       "    }\n",
       "\n",
       "    .dataframe tbody tr th {\n",
       "        vertical-align: top;\n",
       "    }\n",
       "\n",
       "    .dataframe thead th {\n",
       "        text-align: right;\n",
       "    }\n",
       "</style>\n",
       "<table border=\"1\" class=\"dataframe\">\n",
       "  <thead>\n",
       "    <tr style=\"text-align: right;\">\n",
       "      <th></th>\n",
       "      <th>Borough</th>\n",
       "      <th>Average Rating</th>\n",
       "    </tr>\n",
       "  </thead>\n",
       "  <tbody>\n",
       "    <tr>\n",
       "      <th>2</th>\n",
       "      <td>Manhattan</td>\n",
       "      <td>8.653448</td>\n",
       "    </tr>\n",
       "    <tr>\n",
       "      <th>1</th>\n",
       "      <td>Brooklyn</td>\n",
       "      <td>8.569231</td>\n",
       "    </tr>\n",
       "    <tr>\n",
       "      <th>3</th>\n",
       "      <td>Queens</td>\n",
       "      <td>7.862500</td>\n",
       "    </tr>\n",
       "    <tr>\n",
       "      <th>0</th>\n",
       "      <td>Bronx</td>\n",
       "      <td>7.600000</td>\n",
       "    </tr>\n",
       "    <tr>\n",
       "      <th>4</th>\n",
       "      <td>Staten Island</td>\n",
       "      <td>7.000000</td>\n",
       "    </tr>\n",
       "  </tbody>\n",
       "</table>\n",
       "</div>"
      ],
      "text/plain": [
       "         Borough  Average Rating\n",
       "2      Manhattan        8.653448\n",
       "1       Brooklyn        8.569231\n",
       "3         Queens        7.862500\n",
       "0          Bronx        7.600000\n",
       "4  Staten Island        7.000000"
      ]
     },
     "execution_count": 57,
     "metadata": {},
     "output_type": "execute_result"
    }
   ],
   "source": [
    "ny_borough_stats.sort_values(['Average Rating'],ascending=False).head()"
   ]
  },
  {
   "cell_type": "markdown",
   "metadata": {},
   "source": [
    "Similarly these are the average rating of french Resturants for each Borough\n",
    "\n",
    "Lets visualize it"
   ]
  },
  {
   "cell_type": "code",
   "execution_count": 58,
   "metadata": {},
   "outputs": [
    {
     "data": {
      "image/png": "[encoded data removed]",
      "text/plain": [
       "<Figure size 900x500 with 1 Axes>"
      ]
     },
     "metadata": {
      "needs_background": "light"
     },
     "output_type": "display_data"
    }
   ],
   "source": [
    "plt.figure(figsize=(9,5), dpi = 100)\n",
    "# title\n",
    "plt.title('Average rating of French Resturants for each Borough')\n",
    "#On x-axis\n",
    "plt.xlabel('Borough', fontsize = 15)\n",
    "#On y-axis\n",
    "plt.ylabel('Average Rating', fontsize=15)\n",
    "#giving a bar plot\n",
    "french_rest_stats_ny.groupby('Borough').mean()['Rating'].plot(kind='bar')\n",
    "#legend\n",
    "plt.legend()\n",
    "#displays the plot\n",
    "plt.show()"
   ]
  },
  {
   "cell_type": "markdown",
   "metadata": {},
   "source": [
    "We will consider all the neighborhoods with average rating greater or equal 9.0 to visualize on map"
   ]
  },
  {
   "cell_type": "code",
   "execution_count": 59,
   "metadata": {},
   "outputs": [
    {
     "data": {
      "text/html": [
       "<div>\n",
       "<style scoped>\n",
       "    .dataframe tbody tr th:only-of-type {\n",
       "        vertical-align: middle;\n",
       "    }\n",
       "\n",
       "    .dataframe tbody tr th {\n",
       "        vertical-align: top;\n",
       "    }\n",
       "\n",
       "    .dataframe thead th {\n",
       "        text-align: right;\n",
       "    }\n",
       "</style>\n",
       "<table border=\"1\" class=\"dataframe\">\n",
       "  <thead>\n",
       "    <tr style=\"text-align: right;\">\n",
       "      <th></th>\n",
       "      <th>Neighborhood</th>\n",
       "      <th>Average Rating</th>\n",
       "    </tr>\n",
       "  </thead>\n",
       "  <tbody>\n",
       "    <tr>\n",
       "      <th>8</th>\n",
       "      <td>Chelsea</td>\n",
       "      <td>9.00</td>\n",
       "    </tr>\n",
       "    <tr>\n",
       "      <th>9</th>\n",
       "      <td>Chinatown</td>\n",
       "      <td>9.10</td>\n",
       "    </tr>\n",
       "    <tr>\n",
       "      <th>15</th>\n",
       "      <td>Downtown</td>\n",
       "      <td>9.00</td>\n",
       "    </tr>\n",
       "    <tr>\n",
       "      <th>16</th>\n",
       "      <td>East Harlem</td>\n",
       "      <td>9.10</td>\n",
       "    </tr>\n",
       "    <tr>\n",
       "      <th>22</th>\n",
       "      <td>Greenwich Village</td>\n",
       "      <td>9.00</td>\n",
       "    </tr>\n",
       "    <tr>\n",
       "      <th>27</th>\n",
       "      <td>Little Italy</td>\n",
       "      <td>9.05</td>\n",
       "    </tr>\n",
       "    <tr>\n",
       "      <th>38</th>\n",
       "      <td>Soho</td>\n",
       "      <td>9.00</td>\n",
       "    </tr>\n",
       "    <tr>\n",
       "      <th>48</th>\n",
       "      <td>West Village</td>\n",
       "      <td>9.30</td>\n",
       "    </tr>\n",
       "  </tbody>\n",
       "</table>\n",
       "</div>"
      ],
      "text/plain": [
       "         Neighborhood  Average Rating\n",
       "8             Chelsea            9.00\n",
       "9           Chinatown            9.10\n",
       "15           Downtown            9.00\n",
       "16        East Harlem            9.10\n",
       "22  Greenwich Village            9.00\n",
       "27       Little Italy            9.05\n",
       "38               Soho            9.00\n",
       "48       West Village            9.30"
      ]
     },
     "execution_count": 59,
     "metadata": {},
     "output_type": "execute_result"
    }
   ],
   "source": [
    "ny_neighborhood_stats=ny_neighborhood_stats[ny_neighborhood_stats['Average Rating']>=9.0]\n",
    "ny_neighborhood_stats"
   ]
  },
  {
   "cell_type": "markdown",
   "metadata": {},
   "source": [
    "We will join this dataset to original new york data to get lonitude and latitude"
   ]
  },
  {
   "cell_type": "code",
   "execution_count": 60,
   "metadata": {},
   "outputs": [
    {
     "data": {
      "text/html": [
       "<div>\n",
       "<style scoped>\n",
       "    .dataframe tbody tr th:only-of-type {\n",
       "        vertical-align: middle;\n",
       "    }\n",
       "\n",
       "    .dataframe tbody tr th {\n",
       "        vertical-align: top;\n",
       "    }\n",
       "\n",
       "    .dataframe thead th {\n",
       "        text-align: right;\n",
       "    }\n",
       "</style>\n",
       "<table border=\"1\" class=\"dataframe\">\n",
       "  <thead>\n",
       "    <tr style=\"text-align: right;\">\n",
       "      <th></th>\n",
       "      <th>Borough</th>\n",
       "      <th>Neighborhood</th>\n",
       "      <th>Latitude</th>\n",
       "      <th>Longitude</th>\n",
       "      <th>Average Rating</th>\n",
       "    </tr>\n",
       "  </thead>\n",
       "  <tbody>\n",
       "    <tr>\n",
       "      <th>0</th>\n",
       "      <td>Manhattan</td>\n",
       "      <td>Chelsea</td>\n",
       "      <td>40.744035</td>\n",
       "      <td>-74.003116</td>\n",
       "      <td>9.00</td>\n",
       "    </tr>\n",
       "    <tr>\n",
       "      <th>1</th>\n",
       "      <td>Staten Island</td>\n",
       "      <td>Chelsea</td>\n",
       "      <td>40.594726</td>\n",
       "      <td>-74.189560</td>\n",
       "      <td>9.00</td>\n",
       "    </tr>\n",
       "    <tr>\n",
       "      <th>2</th>\n",
       "      <td>Manhattan</td>\n",
       "      <td>Chinatown</td>\n",
       "      <td>40.715618</td>\n",
       "      <td>-73.994279</td>\n",
       "      <td>9.10</td>\n",
       "    </tr>\n",
       "    <tr>\n",
       "      <th>3</th>\n",
       "      <td>Brooklyn</td>\n",
       "      <td>Downtown</td>\n",
       "      <td>40.690844</td>\n",
       "      <td>-73.983463</td>\n",
       "      <td>9.00</td>\n",
       "    </tr>\n",
       "    <tr>\n",
       "      <th>4</th>\n",
       "      <td>Manhattan</td>\n",
       "      <td>East Harlem</td>\n",
       "      <td>40.792249</td>\n",
       "      <td>-73.944182</td>\n",
       "      <td>9.10</td>\n",
       "    </tr>\n",
       "    <tr>\n",
       "      <th>5</th>\n",
       "      <td>Manhattan</td>\n",
       "      <td>Greenwich Village</td>\n",
       "      <td>40.726933</td>\n",
       "      <td>-73.999914</td>\n",
       "      <td>9.00</td>\n",
       "    </tr>\n",
       "    <tr>\n",
       "      <th>6</th>\n",
       "      <td>Manhattan</td>\n",
       "      <td>Little Italy</td>\n",
       "      <td>40.719324</td>\n",
       "      <td>-73.997305</td>\n",
       "      <td>9.05</td>\n",
       "    </tr>\n",
       "    <tr>\n",
       "      <th>7</th>\n",
       "      <td>Manhattan</td>\n",
       "      <td>Soho</td>\n",
       "      <td>40.722184</td>\n",
       "      <td>-74.000657</td>\n",
       "      <td>9.00</td>\n",
       "    </tr>\n",
       "    <tr>\n",
       "      <th>8</th>\n",
       "      <td>Manhattan</td>\n",
       "      <td>West Village</td>\n",
       "      <td>40.734434</td>\n",
       "      <td>-74.006180</td>\n",
       "      <td>9.30</td>\n",
       "    </tr>\n",
       "  </tbody>\n",
       "</table>\n",
       "</div>"
      ],
      "text/plain": [
       "         Borough       Neighborhood   Latitude  Longitude  Average Rating\n",
       "0      Manhattan            Chelsea  40.744035 -74.003116            9.00\n",
       "1  Staten Island            Chelsea  40.594726 -74.189560            9.00\n",
       "2      Manhattan          Chinatown  40.715618 -73.994279            9.10\n",
       "3       Brooklyn           Downtown  40.690844 -73.983463            9.00\n",
       "4      Manhattan        East Harlem  40.792249 -73.944182            9.10\n",
       "5      Manhattan  Greenwich Village  40.726933 -73.999914            9.00\n",
       "6      Manhattan       Little Italy  40.719324 -73.997305            9.05\n",
       "7      Manhattan               Soho  40.722184 -74.000657            9.00\n",
       "8      Manhattan       West Village  40.734434 -74.006180            9.30"
      ]
     },
     "execution_count": 60,
     "metadata": {},
     "output_type": "execute_result"
    }
   ],
   "source": [
    "ny_neighborhood_stats=pd.merge(ny_neighborhood_stats,new_york_data, on='Neighborhood')\n",
    "ny_neighborhood_stats=ny_neighborhood_stats[['Borough','Neighborhood','Latitude','Longitude','Average Rating']]\n",
    "ny_neighborhood_stats"
   ]
  },
  {
   "cell_type": "markdown",
   "metadata": {},
   "source": [
    "Now we will show this data on a map"
   ]
  },
  {
   "cell_type": "code",
   "execution_count": 63,
   "metadata": {},
   "outputs": [],
   "source": [
    "# create map and display it\n",
    "ny_map = folium.Map(location=geo_location('New York'), zoom_start=12)\n",
    "\n"
   ]
  },
  {
   "cell_type": "code",
   "execution_count": 64,
   "metadata": {},
   "outputs": [],
   "source": [
    "# instantiate a feature group for the incidents in the dataframe\n",
    "incidents = folium.map.FeatureGroup()\n",
    "\n"
   ]
  },
  {
   "cell_type": "code",
   "execution_count": 65,
   "metadata": {},
   "outputs": [],
   "source": [
    "# loop through the 100 crimes and add each to the incidents feature group\n",
    "for lat, lng, in ny_neighborhood_stats[['Latitude','Longitude']].values:\n",
    "    incidents.add_child(\n",
    "        folium.CircleMarker(\n",
    "            [lat, lng],\n",
    "            radius=10, # define how big you want the circle markers to be\n",
    "            color='yellow',\n",
    "            fill=True,\n",
    "            fill_color='blue',\n",
    "            fill_opacity=0.6\n",
    "        )\n",
    "    )"
   ]
  },
  {
   "cell_type": "markdown",
   "metadata": {},
   "source": [
    "Lets add a new field to dataframe for labeling purpose"
   ]
  },
  {
   "cell_type": "code",
   "execution_count": 66,
   "metadata": {},
   "outputs": [],
   "source": [
    "ny_neighborhood_stats['Label']=ny_neighborhood_stats['Neighborhood']+', '+ny_neighborhood_stats['Borough']+'('+ny_neighborhood_stats['Average Rating'].map(str)+')'"
   ]
  },
  {
   "cell_type": "code",
   "execution_count": 67,
   "metadata": {},
   "outputs": [
    {
     "data": {
      "text/html": [
       "<div style=\"width:100%;\"><div style=\"position:relative;width:100%;height:0;padding-bottom:60%;\"><iframe src=\"data:text/html;charset=utf-8;base64,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\" style=\"position:absolute;width:100%;height:100%;left:0;top:0;border:none !important;\" allowfullscreen webkitallowfullscreen mozallowfullscreen></iframe></div></div>"
      ],
      "text/plain": [
       "<folium.folium.Map at 0xb95e78a208>"
      ]
     },
     "execution_count": 67,
     "metadata": {},
     "output_type": "execute_result"
    }
   ],
   "source": [
    "# add pop-up text to each marker on the map\n",
    "for lat, lng, label in ny_neighborhood_stats[['Latitude','Longitude','Label']].values:\n",
    "    folium.Marker([lat, lng], popup=label).add_to(ny_map)        \n",
    "# add incidents to map\n",
    "ny_map.add_child(incidents)"
   ]
  },
  {
   "cell_type": "markdown",
   "metadata": {},
   "source": [
    "West Village in manhattan seems to be the best place for French Restaurant"
   ]
  }
 ],
 "metadata": {
  "kernelspec": {
   "display_name": "Python 3",
   "language": "python",
   "name": "python3"
  },
  "language_info": {
   "codemirror_mode": {
    "name": "ipython",
    "version": 3
   },
   "file_extension": ".py",
   "mimetype": "text/x-python",
   "name": "python",
   "nbconvert_exporter": "python",
   "pygments_lexer": "ipython3",
   "version": "3.7.3"
  }
 },
 "nbformat": 4,
 "nbformat_minor": 2
}
